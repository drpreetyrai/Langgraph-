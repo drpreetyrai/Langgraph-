{
 "cells": [
  {
   "cell_type": "code",
   "execution_count": 1,
   "id": "291ed65a",
   "metadata": {},
   "outputs": [],
   "source": [
    "import os \n"
   ]
  },
  {
   "cell_type": "code",
   "execution_count": null,
   "id": "d9534479",
   "metadata": {},
   "outputs": [
    {
     "data": {
      "text/plain": [
       "<function dotenv.main.load_dotenv(dotenv_path: Union[str, ForwardRef('os.PathLike[str]'), NoneType] = None, stream: Optional[IO[str]] = None, verbose: bool = False, override: bool = False, interpolate: bool = True, encoding: Optional[str] = 'utf-8') -> bool>"
      ]
     },
     "execution_count": 2,
     "metadata": {},
     "output_type": "execute_result"
    }
   ],
   "source": [
    "\n",
    "from dotenv import load_dotenv \n",
    "load_dotenv  "
   ]
  },
  {
   "cell_type": "code",
   "execution_count": 3,
   "id": "dc59f3d3",
   "metadata": {},
   "outputs": [],
   "source": [
    "\n",
    "GOOGLE_API_KEY=os.getenv(\"GOOGLE_API_KEY\")\n",
    "TAVILY_API_KEY=os.getenv(\"TAVILY_API_KEY\")\n",
    "GROQ_API_KEY=os.getenv(\"GROQ_API_KEY\")\n",
    "LANGCHAIN_API_KEY=os.getenv(\"LANGCHAIN_API_KEY\")\n",
    "LANGCHAIN_PROJECT=os.getenv(\"LANGCHAIN_PROJECT\")\n",
    "\n"
   ]
  },
  {
   "cell_type": "code",
   "execution_count": 4,
   "id": "176173f6",
   "metadata": {},
   "outputs": [
    {
     "data": {
      "text/plain": [
       "'pr-excellent-treasury-98'"
      ]
     },
     "execution_count": 4,
     "metadata": {},
     "output_type": "execute_result"
    }
   ],
   "source": [
    "LANGCHAIN_PROJECT\n"
   ]
  },
  {
   "cell_type": "code",
   "execution_count": 5,
   "id": "fd834f8b",
   "metadata": {},
   "outputs": [],
   "source": [
    "\n",
    "os.environ[\"GOOGLE_API_KEY\"] = GOOGLE_API_KEY\n",
    "os.environ[\"TAVILY_API_KEY\"] = TAVILY_API_KEY\n",
    "os.environ[\"GROQ_API_KEY\"]= GROQ_API_KEY\n",
    "os.environ[\"LANGCHAIN_API_KEY\"] = LANGCHAIN_API_KEY\n",
    "os.environ[\"LANGCHAIN_TRACING_V2\"] = \"true\"\n",
    "os.environ[\"LANGCHAIN_ENDPOINT\"] = \"https://api.smith.langchain.com\"\n",
    "os.environ[\"LANGCHAIN_PROJECT\"]=LANGCHAIN_PROJECT\n",
    "\n"
   ]
  },
  {
   "cell_type": "code",
   "execution_count": 6,
   "id": "533f406d",
   "metadata": {},
   "outputs": [
    {
     "name": "stderr",
     "output_type": "stream",
     "text": [
      "/Users/preetyrai/Langgraph/venv/lib/python3.10/site-packages/tqdm/auto.py:21: TqdmWarning: IProgress not found. Please update jupyter and ipywidgets. See https://ipywidgets.readthedocs.io/en/stable/user_install.html\n",
      "  from .autonotebook import tqdm as notebook_tqdm\n"
     ]
    }
   ],
   "source": [
    "from langchain_google_genai import GoogleGenerativeAIEmbeddings\n",
    "embeddings = GoogleGenerativeAIEmbeddings(model=\"models/embedding-001\")\n",
    "from langchain_google_genai import ChatGoogleGenerativeAI\n",
    "llm = ChatGoogleGenerativeAI(model=\"gemini-1.0-pro\")\n",
    "\n"
   ]
  },
  {
   "cell_type": "code",
   "execution_count": 7,
   "id": "b7eab4dd",
   "metadata": {},
   "outputs": [],
   "source": [
    "'''from langchain_huggingface import HuggingFaceEmbeddings\n",
    "embeddings=HuggingFaceEmbeddings(model_name=\"all-MiniLM-L6-v2\")'''\n",
    "from langchain_groq import ChatGroq\n",
    "import os\n",
    "llm=ChatGroq(model_name=\"Gemma2-9b-It\")\n",
    "\n"
   ]
  },
  {
   "cell_type": "markdown",
   "id": "bc333a48",
   "metadata": {},
   "source": [
    "# Simple AI Assistant"
   ]
  },
  {
   "cell_type": "code",
   "execution_count": null,
   "id": "addcc85b",
   "metadata": {},
   "outputs": [
    {
     "name": "stdout",
     "output_type": "stream",
     "text": [
      "goodbye take care yourself\n"
     ]
    }
   ],
   "source": [
    "while True:\n",
    "    question=input(\"type your question. if you want to quit the chat write quit\")\n",
    "    if question !=\"quit\":\n",
    "        print(llm.invoke(question).content)\n",
    "    else:\n",
    "        print(\"goodbye take care yourself\")\n",
    "        break\n",
    "    \n"
   ]
  },
  {
   "cell_type": "code",
   "execution_count": null,
   "id": "09ed5719",
   "metadata": {},
   "outputs": [],
   "source": [
    "from langchain_core.chat_history import BaseChatMessageHistory\n",
    "from langchain_core.chat_history import InMemoryChatMessageHistory\n",
    "from langchain_core.runnables.history import RunnableWithMessageHistory\n",
    "from langchain_core.messages import AIMessage\n"
   ]
  },
  {
   "cell_type": "code",
   "execution_count": 10,
   "id": "1f2a3f4e",
   "metadata": {},
   "outputs": [],
   "source": [
    "store={}\n"
   ]
  },
  {
   "cell_type": "code",
   "execution_count": null,
   "id": "72c854f0",
   "metadata": {},
   "outputs": [],
   "source": [
    "\n",
    "def get_session_history(session_id: str) -> BaseChatMessageHistory:\n",
    "    if session_id not in store:\n",
    "        store[session_id] = InMemoryChatMessageHistory()\n",
    "    return store[session_id] \n",
    "\n"
   ]
  },
  {
   "cell_type": "code",
   "execution_count": 12,
   "id": "4baebc3d",
   "metadata": {},
   "outputs": [],
   "source": [
    "config = {\"configurable\": {\"session_id\": \"firstchat\"}}\n"
   ]
  },
  {
   "cell_type": "code",
   "execution_count": 13,
   "id": "12c386e7",
   "metadata": {},
   "outputs": [],
   "source": [
    "model_with_memory=RunnableWithMessageHistory(llm,get_session_history)\n"
   ]
  },
  {
   "cell_type": "code",
   "execution_count": 14,
   "id": "05a3e4ae",
   "metadata": {},
   "outputs": [
    {
     "data": {
      "text/plain": [
       "\"Hello Sunnysavita! It's nice to meet you. \\n\\nIs there anything I can help you with today? 😊  \\n\\n\""
      ]
     },
     "execution_count": 14,
     "metadata": {},
     "output_type": "execute_result"
    }
   ],
   "source": [
    "model_with_memory.invoke((\"Hi! I'm sunnysavita\"),config=config).content\n"
   ]
  },
  {
   "cell_type": "code",
   "execution_count": 15,
   "id": "59dc5993",
   "metadata": {},
   "outputs": [
    {
     "data": {
      "text/plain": [
       "'Your name is Sunnysavita!  🌻  \\n\\nI remember from our first introduction. 🙂  \\n\\n\\n\\n\\n'"
      ]
     },
     "execution_count": 15,
     "metadata": {},
     "output_type": "execute_result"
    }
   ],
   "source": [
    "model_with_memory.invoke((\"tell me what is my name?\"),config=config).content\n"
   ]
  },
  {
   "cell_type": "code",
   "execution_count": 16,
   "id": "7aa86b6f",
   "metadata": {},
   "outputs": [
    {
     "data": {
      "text/plain": [
       "{'firstchat': InMemoryChatMessageHistory(messages=[HumanMessage(content=\"Hi! I'm sunnysavita\", additional_kwargs={}, response_metadata={}), AIMessage(content=\"Hello Sunnysavita! It's nice to meet you. \\n\\nIs there anything I can help you with today? 😊  \\n\\n\", additional_kwargs={}, response_metadata={'token_usage': {'completion_tokens': 32, 'prompt_tokens': 18, 'total_tokens': 50, 'completion_time': 0.058181818, 'prompt_time': 0.001940137, 'queue_time': 0.245079353, 'total_time': 0.060121955}, 'model_name': 'Gemma2-9b-It', 'system_fingerprint': 'fp_10c08bf97d', 'finish_reason': 'stop', 'logprobs': None}, id='run--a22e3ca4-b10d-41c9-bd43-bb8de09abff4-0', usage_metadata={'input_tokens': 18, 'output_tokens': 32, 'total_tokens': 50}), HumanMessage(content='tell me what is my name?', additional_kwargs={}, response_metadata={}), AIMessage(content='Your name is Sunnysavita!  🌻  \\n\\nI remember from our first introduction. 🙂  \\n\\n\\n\\n\\n', additional_kwargs={}, response_metadata={'token_usage': {'completion_tokens': 25, 'prompt_tokens': 64, 'total_tokens': 89, 'completion_time': 0.045454545, 'prompt_time': 0.005122642, 'queue_time': 0.257304247, 'total_time': 0.050577187}, 'model_name': 'Gemma2-9b-It', 'system_fingerprint': 'fp_10c08bf97d', 'finish_reason': 'stop', 'logprobs': None}, id='run--639d3518-ca71-4988-9dc2-4f396e139c87-0', usage_metadata={'input_tokens': 64, 'output_tokens': 25, 'total_tokens': 89})])}"
      ]
     },
     "execution_count": 16,
     "metadata": {},
     "output_type": "execute_result"
    }
   ],
   "source": [
    "store "
   ]
  },
  {
   "cell_type": "markdown",
   "id": "2c40f5be",
   "metadata": {},
   "source": [
    "# RAG WITH LCEL"
   ]
  },
  {
   "cell_type": "code",
   "execution_count": 17,
   "id": "c383aea8",
   "metadata": {},
   "outputs": [],
   "source": [
    "from langchain_community.document_loaders import TextLoader, DirectoryLoader\n",
    "from langchain.text_splitter import RecursiveCharacterTextSplitter\n",
    "from langchain_community.vectorstores import Chroma\n",
    "from langchain import PromptTemplate\n",
    "from langchain_core.runnables import RunnableParallel, RunnablePassthrough , RunnableLambda\n",
    "from langchain_core.output_parsers import StrOutputParser\n"
   ]
  },
  {
   "cell_type": "code",
   "execution_count": 18,
   "id": "7b2f29e3",
   "metadata": {},
   "outputs": [
    {
     "data": {
      "text/plain": [
       "GoogleGenerativeAIEmbeddings(client=<google.ai.generativelanguage_v1beta.services.generative_service.client.GenerativeServiceClient object at 0x10eaa3d90>, model='models/embedding-001', task_type=None, google_api_key=SecretStr('**********'), credentials=None, client_options=None, transport=None, request_options=None)"
      ]
     },
     "execution_count": 18,
     "metadata": {},
     "output_type": "execute_result"
    }
   ],
   "source": [
    "from langchain_google_genai import GoogleGenerativeAIEmbeddings\n",
    "embeddings = GoogleGenerativeAIEmbeddings(model=\"models/embedding-001\")\n",
    "\n",
    "embeddings "
   ]
  },
  {
   "cell_type": "code",
   "execution_count": 33,
   "id": "0ec95b95",
   "metadata": {},
   "outputs": [],
   "source": [
    "### Reading the txt files from source directory\n",
    "\n",
    "\n",
    "# loader = DirectoryLoader('../data', glob=\"./*.txt\", loader_cls=TextLoader)\n",
    "# docs = loader.load()\n",
    "\n",
    "# ### Creating Chunks using RecursiveCharacterTextSplitter\n",
    "\n",
    "# text_splitter = RecursiveCharacterTextSplitter(\n",
    "#     chunk_size=50,\n",
    "#     chunk_overlap=10,\n",
    "#     length_function=len\n",
    "# )\n",
    "# new_docs = text_splitter.split_documents(documents=docs)\n",
    "# doc_strings = [doc.page_content for doc in new_docs]\n",
    "\n",
    "# ###  BGE Embddings\n",
    "# '''\n",
    "\n",
    "# from langchain.embeddings import HuggingFaceBgeEmbeddings\n",
    "\n",
    "# model_name = \"BAAI/bge-base-en-v1.5\"\n",
    "# model_kwargs = {'device': 'cpu'}\n",
    "# encode_kwargs = {'normalize_embeddings': True} # set True to compute cosine similarity\n",
    "# embeddings = HuggingFaceBgeEmbeddings(\n",
    "#     model_name=model_name,\n",
    "#     model_kwargs=model_kwargs,\n",
    "#     encode_kwargs=encode_kwargs,\n",
    "# )\n",
    "\n",
    "# '''  \n",
    "\n",
    "# ### Creating Retriever using Vector DB\n",
    "\n",
    "# db = Chroma.from_documents(new_docs, embeddings)\n",
    "# retriever = db.as_retriever(search_kwargs={\"k\": 4})\n",
    "\n"
   ]
  },
  {
   "cell_type": "code",
   "execution_count": 21,
   "id": "8f1100b0",
   "metadata": {},
   "outputs": [],
   "source": [
    "from langchain_google_genai import GoogleGenerativeAIEmbeddings\n",
    "from langchain.document_loaders import DirectoryLoader, TextLoader\n",
    "from langchain.text_splitter import RecursiveCharacterTextSplitter\n",
    "from langchain.vectorstores import Chroma\n",
    "\n",
    "# Step 1: Load documents\n",
    "loader = DirectoryLoader('data', glob=\"./*.txt\", loader_cls=TextLoader)\n",
    "docs = loader.load()\n",
    "\n",
    "# Step 2: Split documents\n",
    "text_splitter = RecursiveCharacterTextSplitter(\n",
    "    chunk_size=50,\n",
    "    chunk_overlap=10,\n",
    "    length_function=len\n",
    ")\n",
    "new_docs = text_splitter.split_documents(documents=docs)\n",
    "\n",
    "if not new_docs:\n",
    "    raise ValueError(\"No documents were found or split. Please check your file paths and content.\")\n",
    "\n",
    "# Step 3: Set up embeddings\n",
    "embeddings = GoogleGenerativeAIEmbeddings(model=\"models/embedding-001\")\n",
    "\n",
    "# Step 4: Create vector store\n",
    "db = Chroma.from_documents(new_docs, embeddings)\n",
    "\n",
    "# Step 5: Set up retriever\n",
    "retriever = db.as_retriever(search_kwargs={\"k\": 4})\n",
    "\n"
   ]
  },
  {
   "cell_type": "code",
   "execution_count": 22,
   "id": "00ab37d5",
   "metadata": {},
   "outputs": [],
   "source": [
    "template = \"\"\"Answer the question based only on the following context:\n",
    "{context}\n",
    "\n",
    "Question: {question}\n",
    "\"\"\"\n",
    "prompt = PromptTemplate.from_template(template)\n",
    "\n"
   ]
  },
  {
   "cell_type": "code",
   "execution_count": 23,
   "id": "3ec22a07",
   "metadata": {},
   "outputs": [],
   "source": [
    "\n",
    "retrieval_chain = (\n",
    "    RunnableParallel({\"context\": retriever, \"question\": RunnablePassthrough()})\n",
    "    | prompt\n",
    "    | llm\n",
    "    | StrOutputParser()\n",
    "    )\n"
   ]
  },
  {
   "cell_type": "code",
   "execution_count": 24,
   "id": "2ad4d4c8",
   "metadata": {},
   "outputs": [
    {
     "name": "stdout",
     "output_type": "stream",
     "text": [
      "Here are 3 important points about Llama 3 based on the provided text:\n",
      "\n",
      "* **Llama 3 is a large language model.** This is implied by the descriptions of its various versions (8B parameters) and its use in services.\n",
      "* **Llama 3 was released in April 2024.**  This is a specific detail provided in the text.\n",
      "* **Llama 3 models are accessible outside a specific website.** This suggests Llama 3 is available for broader use and not just limited to a particular platform. \n",
      "\n",
      "\n",
      "Let me know if you have any other questions! \n",
      "\n"
     ]
    }
   ],
   "source": [
    "question =\"what is llama3? can you highlight 3 important points?\"\n",
    "print(retrieval_chain.invoke(question))\n",
    "\n"
   ]
  },
  {
   "cell_type": "markdown",
   "id": "e8055a0b",
   "metadata": {},
   "source": [
    "# Let's start with Tools and Agents"
   ]
  },
  {
   "cell_type": "code",
   "execution_count": 25,
   "id": "97fb2922",
   "metadata": {},
   "outputs": [],
   "source": [
    "from langchain_community.tools import WikipediaQueryRun\n",
    "from langchain_community.utilities import WikipediaAPIWrapper\n"
   ]
  },
  {
   "cell_type": "code",
   "execution_count": 26,
   "id": "28908519",
   "metadata": {},
   "outputs": [],
   "source": [
    "api_wrapper = WikipediaAPIWrapper(top_k_results=5, doc_content_chars_max=100)\n",
    "\n"
   ]
  },
  {
   "cell_type": "code",
   "execution_count": 27,
   "id": "a709664c",
   "metadata": {},
   "outputs": [],
   "source": [
    "tool = WikipediaQueryRun(api_wrapper=api_wrapper)\n",
    "\n"
   ]
  },
  {
   "cell_type": "code",
   "execution_count": 28,
   "id": "7980b5d4",
   "metadata": {},
   "outputs": [
    {
     "data": {
      "text/plain": [
       "'wikipedia'"
      ]
     },
     "execution_count": 28,
     "metadata": {},
     "output_type": "execute_result"
    }
   ],
   "source": [
    "tool.name\n"
   ]
  },
  {
   "cell_type": "code",
   "execution_count": 29,
   "id": "fc50eda2",
   "metadata": {},
   "outputs": [
    {
     "data": {
      "text/plain": [
       "'A wrapper around Wikipedia. Useful for when you need to answer general questions about people, places, companies, facts, historical events, or other subjects. Input should be a search query.'"
      ]
     },
     "execution_count": 29,
     "metadata": {},
     "output_type": "execute_result"
    }
   ],
   "source": [
    "tool.description\n"
   ]
  },
  {
   "cell_type": "code",
   "execution_count": 30,
   "id": "a63fa499",
   "metadata": {},
   "outputs": [
    {
     "data": {
      "text/plain": [
       "{'query': {'description': 'query to look up on wikipedia',\n",
       "  'title': 'Query',\n",
       "  'type': 'string'}}"
      ]
     },
     "execution_count": 30,
     "metadata": {},
     "output_type": "execute_result"
    }
   ],
   "source": [
    "tool.args\n"
   ]
  },
  {
   "cell_type": "code",
   "execution_count": 31,
   "id": "3dde666c",
   "metadata": {},
   "outputs": [
    {
     "data": {
      "text/plain": [
       "False"
      ]
     },
     "execution_count": 31,
     "metadata": {},
     "output_type": "execute_result"
    }
   ],
   "source": [
    "tool.return_direct\n"
   ]
  },
  {
   "cell_type": "code",
   "execution_count": 32,
   "id": "0146c67a",
   "metadata": {},
   "outputs": [
    {
     "name": "stdout",
     "output_type": "stream",
     "text": [
      "Page: LangChain\n",
      "Summary: LangChain is a software framework that helps facilitate the integration of \n"
     ]
    }
   ],
   "source": [
    "print(tool.run({\"query\": \"langchain\"}))\n",
    "\n"
   ]
  },
  {
   "cell_type": "code",
   "execution_count": 34,
   "id": "dd41d5fc",
   "metadata": {},
   "outputs": [
    {
     "data": {
      "text/plain": [
       "'Page: LangChain\\nSummary: LangChain is a software framework that helps facilitate the integration of '"
      ]
     },
     "execution_count": 34,
     "metadata": {},
     "output_type": "execute_result"
    }
   ],
   "source": [
    "tool.run(\"langchain\")\n"
   ]
  },
  {
   "cell_type": "code",
   "execution_count": 35,
   "id": "95828e08",
   "metadata": {},
   "outputs": [
    {
     "name": "stderr",
     "output_type": "stream",
     "text": [
      "/Users/preetyrai/Langgraph/venv/lib/python3.10/site-packages/IPython/core/interactiveshell.py:3579: LangChainDeprecationWarning: As of langchain-core 0.3.0, LangChain uses pydantic v2 internally. The langchain_core.pydantic_v1 module was a compatibility shim for pydantic v1, and should no longer be used. Please update the code to import from Pydantic directly.\n",
      "\n",
      "For example, replace imports like: `from langchain_core.pydantic_v1 import BaseModel`\n",
      "with: `from pydantic import BaseModel`\n",
      "or the v1 compatibility namespace if you are working in a code base that has not been fully upgraded to pydantic 2 yet. \tfrom pydantic.v1 import BaseModel\n",
      "\n",
      "  exec(code_obj, self.user_global_ns, self.user_ns)\n"
     ]
    }
   ],
   "source": [
    "from langchain_core.pydantic_v1 import BaseModel, Field\n"
   ]
  },
  {
   "cell_type": "code",
   "execution_count": 38,
   "id": "1b0e9e22",
   "metadata": {},
   "outputs": [],
   "source": [
    "# class WikiInputs(BaseModel):\n",
    "#     query: str = Field(description=\"query to look up in Wikipedia, should be 3 or less words\")\n",
    "\n",
    "\n",
    "\n",
    "from pydantic import BaseModel\n",
    "\n",
    "class WikiInputs(BaseModel):\n",
    "    query: str"
   ]
  },
  {
   "cell_type": "code",
   "execution_count": 39,
   "id": "ea8f34c2",
   "metadata": {},
   "outputs": [],
   "source": [
    "tool=WikipediaQueryRun(\n",
    "    name=\"wiki-tool\",\n",
    "    description=\"look up things in wikipedia\",\n",
    "    args_schema=WikiInputs,\n",
    "    api_wrapper=api_wrapper,\n",
    "    return_direct=True,\n",
    ")\n",
    "\n"
   ]
  },
  {
   "cell_type": "code",
   "execution_count": 40,
   "id": "cf353b2f",
   "metadata": {},
   "outputs": [
    {
     "data": {
      "text/plain": [
       "'wiki-tool'"
      ]
     },
     "execution_count": 40,
     "metadata": {},
     "output_type": "execute_result"
    }
   ],
   "source": [
    "tool.name\n",
    "\n"
   ]
  },
  {
   "cell_type": "code",
   "execution_count": 41,
   "id": "b13f8815",
   "metadata": {},
   "outputs": [
    {
     "data": {
      "text/plain": [
       "'look up things in wikipedia'"
      ]
     },
     "execution_count": 41,
     "metadata": {},
     "output_type": "execute_result"
    }
   ],
   "source": [
    "tool.description\n",
    "\n"
   ]
  },
  {
   "cell_type": "code",
   "execution_count": 42,
   "id": "ad4894a4",
   "metadata": {},
   "outputs": [
    {
     "data": {
      "text/plain": [
       "{'query': {'title': 'Query', 'type': 'string'}}"
      ]
     },
     "execution_count": 42,
     "metadata": {},
     "output_type": "execute_result"
    }
   ],
   "source": [
    "tool.args\n",
    "\n"
   ]
  },
  {
   "cell_type": "code",
   "execution_count": 43,
   "id": "66ac74d6",
   "metadata": {},
   "outputs": [
    {
     "data": {
      "text/plain": [
       "True"
      ]
     },
     "execution_count": 43,
     "metadata": {},
     "output_type": "execute_result"
    }
   ],
   "source": [
    "tool.return_direct\n",
    "\n"
   ]
  },
  {
   "cell_type": "code",
   "execution_count": 44,
   "id": "a4ab9c54",
   "metadata": {},
   "outputs": [
    {
     "name": "stdout",
     "output_type": "stream",
     "text": [
      "Page: LangChain\n",
      "Summary: LangChain is a software framework that helps facilitate the integration of \n"
     ]
    }
   ],
   "source": [
    "print(tool.run(\"langchain\"))\n",
    "\n"
   ]
  },
  {
   "cell_type": "markdown",
   "id": "285a947c",
   "metadata": {},
   "source": [
    "# Youtube Search Tool"
   ]
  },
  {
   "cell_type": "code",
   "execution_count": 45,
   "id": "7490781c",
   "metadata": {},
   "outputs": [],
   "source": [
    "from langchain_community.tools import YouTubeSearchTool\n"
   ]
  },
  {
   "cell_type": "code",
   "execution_count": 46,
   "id": "f4cbfb02",
   "metadata": {},
   "outputs": [],
   "source": [
    "tool=YouTubeSearchTool()\n"
   ]
  },
  {
   "cell_type": "code",
   "execution_count": 47,
   "id": "0bca158f",
   "metadata": {},
   "outputs": [
    {
     "data": {
      "text/plain": [
       "'youtube_search'"
      ]
     },
     "execution_count": 47,
     "metadata": {},
     "output_type": "execute_result"
    }
   ],
   "source": [
    "tool.name\n"
   ]
  },
  {
   "cell_type": "code",
   "execution_count": 48,
   "id": "0f50db28",
   "metadata": {},
   "outputs": [
    {
     "data": {
      "text/plain": [
       "'search for youtube videos associated with a person. the input to this tool should be a comma separated list, the first part contains a person name and the second a number that is the maximum number of video results to return aka num_results. the second part is optional'"
      ]
     },
     "execution_count": 48,
     "metadata": {},
     "output_type": "execute_result"
    }
   ],
   "source": [
    "tool.description\n"
   ]
  },
  {
   "cell_type": "code",
   "execution_count": 49,
   "id": "8857687d",
   "metadata": {},
   "outputs": [
    {
     "data": {
      "text/plain": [
       "\"['https://www.youtube.com/watch?v=3ZauAhbTyBE&pp=ygUMc3Vubnkgc2F2aXRh', 'https://www.youtube.com/watch?v=cydntJObPLI&pp=ygUMc3Vubnkgc2F2aXRh']\""
      ]
     },
     "execution_count": 49,
     "metadata": {},
     "output_type": "execute_result"
    }
   ],
   "source": [
    "tool.run(\"sunny savita\")\n"
   ]
  },
  {
   "cell_type": "code",
   "execution_count": 50,
   "id": "cd88a883",
   "metadata": {},
   "outputs": [],
   "source": [
    "from langchain_community.tools.tavily_search import TavilySearchResults\n"
   ]
  },
  {
   "cell_type": "code",
   "execution_count": 51,
   "id": "2af4a428",
   "metadata": {},
   "outputs": [],
   "source": [
    "tool = TavilySearchResults()\n"
   ]
  },
  {
   "cell_type": "code",
   "execution_count": 52,
   "id": "46f842b5",
   "metadata": {},
   "outputs": [
    {
     "data": {
      "text/plain": [
       "[{'title': 'The latest on the Burning Man flooding - NPR',\n",
       "  'url': 'https://www.npr.org/2023/09/03/1197497458/the-latest-on-the-burning-man-flooding',\n",
       "  'content': \"National\\n\\nThe latest on the Burning Man flooding\\n\\nBy\\n\\nClaudia Peschiutta\\n\\nThe latest on the Burning Man flooding\\n\\nAuthorities are investigating a death at the Burning Man festival in the Nevada desert after tens of thousands of people are stuck in camps because of rain. [...] Knee-deep mud, warnings to conserve food and water, orders to shelter in place - this is all at Burning Man 2023 after torrential rains turned the Black Rock Desert into miles and miles of mud. There are also reports that at least one person has died at the counterculture festival about a hundred miles north of Reno, Nev. Earlier this afternoon, I caught up with NPR's Claudia Peschiutta, who's at her first burn, and she told me it's muddy where she is, but that she and her camp family have been [...] Knee-deep mud, warnings to conserve food and water, orders to shelter in place - this is all at Burning Man 2023 after torrential rains turned the Black Rock Desert into miles and miles of mud. There are also reports that at least one person has died at the counterculture festival about a hundred miles north of Reno, Nev. Earlier this afternoon, I caught up with NPR's Claudia Peschiutta, who's at her first burn, and she told me it's muddy where she is, but that she and her camp family have been\",\n",
       "  'score': 0.8302782},\n",
       " {'title': \"What we know about 2023 Burning Man festival's flooding chaos\",\n",
       "  'url': 'https://www.independent.co.uk/news/world/americas/what-is-burning-man-festival-b2404911.html',\n",
       "  'content': 'On Monday, officials in the Pershing County Sheriff’s Office confirmed the death was that of 32-year-old Leon Reece. He was found unresponsive on the playa and his death was “unrelated to the weather.” An official cause has yet to be released.\\n\\nThe man’s death is currently under investigation.\\n\\nThe Independent has reached out to the law enforcement agency for comment.\\n\\nChaos at the exodus [...] Then toward the end of the nine-day art and cultures festival, heavy rains poured down, causing flooding and a massive amount of mud.\\n\\nHeavy rains, brought on by a rare hurricane on the West Coast, forced organisers and local authorities to close roads for the remainder of the festival and told anyone en route to go home.\\n\\nBy Saturday, more than 70,000 “Burners” at the site were urged to hunker down and conserve supplies amid mud slicks and unserviced toilets. [...] On Sunday, police announced an investigation into an unspecified death at the festival. The deceased was identified as 32-year-old Leon Reece - but his cause of death has not been determined.\\n\\nHere’s everything we know about the Burning Man 2023 fiasco:\\n\\nWhat is Burning Man?\\n\\nThe festival is a “temporary metropolis dedicated to community, art, self-expression, and self-reliance,” according to its website.',\n",
       "  'score': 0.7018975},\n",
       " {'title': 'Burning Man flooding: What happened to stranded festivalgoers?',\n",
       "  'url': 'https://abcnews.go.com/US/burning-man-flooding-happened-stranded-festivalgoers/story?id=102908331',\n",
       "  'content': 'ABC News\\n\\nVideo\\n\\nLive\\n\\nShows\\n\\nShop\\n\\nStream on\\n\\nBurning Man flooding: What happened to stranded festivalgoers?\\n\\nSome 64,000 people were still on site Monday as the exodus began.\\n\\nTens of thousands of Burning Man attendees are now able to leave the festival after a downpour and massive flooding left them stranded over the weekend. [...] Organizers lifted a driving ban as of 2 p.m. local time Monday, allowing \"exodus operations\" to begin, organizers said. They are, however, recommending that people delay their departures until Tuesday to avoid getting stuck in the mud.\\n\\nApproximately 64,000 people remain on site as of midday Monday, organizers said.\\n\\nWhat happened?\\n\\nBlack Rock Desert was faced with two to three months worth of rain in just a matter of hours on Friday, Sept. 1. [...] The festival, held in the Black Rock Desert in northwestern Nevada, was attended by more than 70,000 people last year, and just as many were expected this year. Burning Man began on Aug. 28 and was scheduled to run through Sept. 4.\\n\\nOne person died at the festival amid the unusual weather conditions, the Pershing County Sheriff\\'s Office confirmed Sunday morning in a statement. The death is under investigation.',\n",
       "  'score': 0.69697046},\n",
       " {'title': 'Travel to Burning Man delayed due to thunderstorms - FOX Weather',\n",
       "  'url': 'https://www.foxweather.com/weather-news/burning-man-festivalgoers-experience-travel-issues-black-rock-city-nevada-rain',\n",
       "  'content': 'Burning Man festivalgoers experience travel headaches again due to rain\\n\\nLast year, monsoon rains stranded more than 70,000 festivalgoers at the event.\\n\\nFILE: Thousands remain trapped after flooding at Burning Man\\n\\nMonsoon rains on Friday and over the weekend caused flash flooding at Burning Man, turning the usually dry, desert landscape of the festival grounds into a muddy mess. Sept. 4, 2023.',\n",
       "  'score': 0.6934942},\n",
       " {'title': 'Burning Man festival: 70,000 attendees stranded and one dead after ...',\n",
       "  'url': 'https://www.youtube.com/watch?v=-CPGsjvAOUs&pp=ygUMI2J1cm5pbmdmZXN0',\n",
       "  'content': 'Burning Man festival: 70,000 attendees stranded and one dead after rain and flooding \\n CBC News \\n 1141 likes \\n 293817 views \\n 3 Sep 2023 \\n The Burning Man counter-culture festival in Nevada was hit by flooding that left thousands of attendees stranded in the desert on Saturday. Authorities in northern Nevada said they were investigating one death at the site. Revellers were urged to shelter in place and conserve food and water as officials looked to organize shuttle buses.',\n",
       "  'score': 0.6922474}]"
      ]
     },
     "execution_count": 52,
     "metadata": {},
     "output_type": "execute_result"
    }
   ],
   "source": [
    "tool.invoke({\"query\": \"What happened in the latest burning man floods\"})\n"
   ]
  },
  {
   "cell_type": "code",
   "execution_count": 86,
   "id": "817d22b0",
   "metadata": {},
   "outputs": [],
   "source": [
    "from langchain.agents import AgentType \n",
    "from langchain.agents import load_tools \n",
    "from langchain.agents import initialize_agent \n",
    "\n"
   ]
  },
  {
   "cell_type": "code",
   "execution_count": 87,
   "id": "39b2b386",
   "metadata": {},
   "outputs": [],
   "source": [
    "tool = load_tools([\"wikipedia\"], llm=llm) \n"
   ]
  },
  {
   "cell_type": "code",
   "execution_count": 89,
   "id": "c4912485",
   "metadata": {},
   "outputs": [],
   "source": [
    "agent = initialize_agent(tool, llm, agent=AgentType.ZERO_SHOT_REACT_DESCRIPTION, verbose=True) \n",
    " \n"
   ]
  },
  {
   "cell_type": "code",
   "execution_count": 90,
   "id": "fdf60cf2",
   "metadata": {},
   "outputs": [
    {
     "name": "stderr",
     "output_type": "stream",
     "text": [
      "/var/folders/kx/d1gxzt7s111d0z9bjypgv2980000gn/T/ipykernel_76662/3153669907.py:1: LangChainDeprecationWarning: The method `Chain.run` was deprecated in langchain 0.1.0 and will be removed in 1.0. Use :meth:`~invoke` instead.\n",
      "  agent.run(\"what is current GDP of india\")\n"
     ]
    },
    {
     "name": "stdout",
     "output_type": "stream",
     "text": [
      "\n",
      "\n",
      "\u001b[1m> Entering new AgentExecutor chain...\u001b[0m\n",
      "\u001b[32;1m\u001b[1;3mThought: I need to look up the current GDP of India.\n",
      "Action: wikipedia\n",
      "Action Input: GDP of India\u001b[0m\n",
      "Observation: \u001b[36;1m\u001b[1;3mPage: Economy of India\n",
      "Summary: The economy of India is a developing mixed economy with a notable public sector in strategic sectors. It is the world's fourth-largest economy by nominal GDP and the third-largest by purchasing power parity (PPP); on a per capita income basis, India ranked 136th by GDP (nominal) and 119th by GDP (PPP). From independence in 1947 until 1991, successive governments followed the Soviet model and promoted protectionist economic policies, with extensive Sovietization, state intervention, demand-side economics, natural resources, bureaucrat-driven enterprises and economic regulation. This is characterised as dirigism, in the form of the Licence Raj. The end of the Cold War and an acute balance of payments crisis in 1991 led to the adoption of a broad economic liberalisation in India and indicative planning. India has about 1,900 public sector companies, with the Indian state having complete control and ownership of railways and highways. The Indian government has major control over banking, insurance, farming, fertilizers and chemicals, airports,  essential utilities. The state also exerts substantial control over digitalization,  telecommunication, supercomputing, space, port and shipping industries, which were effectively nationalised in the mid-1950s but has seen the emergence of key corporate players.\n",
      "Nearly 70% of India's GDP is driven by domestic consumption; the country remains the world's fourth-largest consumer market. Aside private consumption, India's GDP is also fueled by government spending, investments, and exports. In 2022, India was the world's 10th-largest importer and the 8th-largest exporter. India has been a member of the World Trade Organization since 1 January 1995. It ranks 63rd on the ease of doing business index and 40th on the Global Competitiveness Index. India has one of the world's highest number of billionaires along with extreme income inequality. Economists and social scientists often consider India a welfare state. India's overall social welfare spending stood at 8.6% of GDP in 2021-22, which is much lower than the average for OECD nations. With 586 million workers, the Indian labour force is the world's second-largest. Despite having one of the longest working hours, India has one of the lowest workforce productivity levels in the world. Economists say that due to structural economic problems, India is experiencing jobless economic growth.\n",
      "During the Great Recession, the economy faced a mild slowdown. India endorsed Keynesian policy and initiated stimulus measures (both fiscal and monetary) to boost growth and generate demand. In subsequent years, economic growth revived.\n",
      "In 2021–22, the foreign direct investment (FDI) in India was $82 billion. The leading sectors for FDI inflows were the Finance, Banking, Insurance and R&D. India has free trade agreements with several nations and blocs, including ASEAN, SAFTA, Mercosur, South Korea, Japan, Australia, the United Arab Emirates, and several others which are in effect or under negotiating stage.\n",
      "The service sector makes up more than 50% of GDP and remains the fastest growing sector, while the industrial sector and the agricultural sector employs a majority of the labor force. The Bombay Stock Exchange and National Stock Exchange are some of the world's largest stock exchanges by market capitalisation. India is the world's sixth-largest manufacturer, representing 2.6% of global manufacturing output. Nearly 65% of India's population is rural, and contributes about 50% of India's GDP. India faces high unemployment, rising income inequality, and a drop in aggregate demand. India's gross domestic savings rate stood at 29.3% of GDP in 2022.\n",
      "\n",
      "\n",
      "\n",
      "Page: List of Indian states and union territories by GDP\n",
      "Summary: These are lists of Indian states and union territories by their nominal gross state domestic product (GSDP). GSDP is the sum of all value added by industries within each state or union territory and serves as a counterpart \u001b[0m\n",
      "Thought:\u001b[32;1m\u001b[1;3mThought: I need to find the current GDP of India. \n",
      "Action: wikipedia\n",
      "Action Input: GDP of India\u001b[0m\n",
      "Observation: \u001b[36;1m\u001b[1;3mPage: Economy of India\n",
      "Summary: The economy of India is a developing mixed economy with a notable public sector in strategic sectors. It is the world's fourth-largest economy by nominal GDP and the third-largest by purchasing power parity (PPP); on a per capita income basis, India ranked 136th by GDP (nominal) and 119th by GDP (PPP). From independence in 1947 until 1991, successive governments followed the Soviet model and promoted protectionist economic policies, with extensive Sovietization, state intervention, demand-side economics, natural resources, bureaucrat-driven enterprises and economic regulation. This is characterised as dirigism, in the form of the Licence Raj. The end of the Cold War and an acute balance of payments crisis in 1991 led to the adoption of a broad economic liberalisation in India and indicative planning. India has about 1,900 public sector companies, with the Indian state having complete control and ownership of railways and highways. The Indian government has major control over banking, insurance, farming, fertilizers and chemicals, airports,  essential utilities. The state also exerts substantial control over digitalization,  telecommunication, supercomputing, space, port and shipping industries, which were effectively nationalised in the mid-1950s but has seen the emergence of key corporate players.\n",
      "Nearly 70% of India's GDP is driven by domestic consumption; the country remains the world's fourth-largest consumer market. Aside private consumption, India's GDP is also fueled by government spending, investments, and exports. In 2022, India was the world's 10th-largest importer and the 8th-largest exporter. India has been a member of the World Trade Organization since 1 January 1995. It ranks 63rd on the ease of doing business index and 40th on the Global Competitiveness Index. India has one of the world's highest number of billionaires along with extreme income inequality. Economists and social scientists often consider India a welfare state. India's overall social welfare spending stood at 8.6% of GDP in 2021-22, which is much lower than the average for OECD nations. With 586 million workers, the Indian labour force is the world's second-largest. Despite having one of the longest working hours, India has one of the lowest workforce productivity levels in the world. Economists say that due to structural economic problems, India is experiencing jobless economic growth.\n",
      "During the Great Recession, the economy faced a mild slowdown. India endorsed Keynesian policy and initiated stimulus measures (both fiscal and monetary) to boost growth and generate demand. In subsequent years, economic growth revived.\n",
      "In 2021–22, the foreign direct investment (FDI) in India was $82 billion. The leading sectors for FDI inflows were the Finance, Banking, Insurance and R&D. India has free trade agreements with several nations and blocs, including ASEAN, SAFTA, Mercosur, South Korea, Japan, Australia, the United Arab Emirates, and several others which are in effect or under negotiating stage.\n",
      "The service sector makes up more than 50% of GDP and remains the fastest growing sector, while the industrial sector and the agricultural sector employs a majority of the labor force. The Bombay Stock Exchange and National Stock Exchange are some of the world's largest stock exchanges by market capitalisation. India is the world's sixth-largest manufacturer, representing 2.6% of global manufacturing output. Nearly 65% of India's population is rural, and contributes about 50% of India's GDP. India faces high unemployment, rising income inequality, and a drop in aggregate demand. India's gross domestic savings rate stood at 29.3% of GDP in 2022.\n",
      "\n",
      "\n",
      "\n",
      "Page: List of Indian states and union territories by GDP\n",
      "Summary: These are lists of Indian states and union territories by their nominal gross state domestic product (GSDP). GSDP is the sum of all value added by industries within each state or union territory and serves as a counterpart \u001b[0m\n",
      "Thought:\u001b[32;1m\u001b[1;3mQuestion: what is current GDP of india\n",
      "Thought:Thought: I need to look up the current GDP of India.\n",
      "Action: wikipedia\n",
      "Action Input: GDP of India\u001b[0m\n",
      "Observation: \u001b[36;1m\u001b[1;3mPage: Economy of India\n",
      "Summary: The economy of India is a developing mixed economy with a notable public sector in strategic sectors. It is the world's fourth-largest economy by nominal GDP and the third-largest by purchasing power parity (PPP); on a per capita income basis, India ranked 136th by GDP (nominal) and 119th by GDP (PPP). From independence in 1947 until 1991, successive governments followed the Soviet model and promoted protectionist economic policies, with extensive Sovietization, state intervention, demand-side economics, natural resources, bureaucrat-driven enterprises and economic regulation. This is characterised as dirigism, in the form of the Licence Raj. The end of the Cold War and an acute balance of payments crisis in 1991 led to the adoption of a broad economic liberalisation in India and indicative planning. India has about 1,900 public sector companies, with the Indian state having complete control and ownership of railways and highways. The Indian government has major control over banking, insurance, farming, fertilizers and chemicals, airports,  essential utilities. The state also exerts substantial control over digitalization,  telecommunication, supercomputing, space, port and shipping industries, which were effectively nationalised in the mid-1950s but has seen the emergence of key corporate players.\n",
      "Nearly 70% of India's GDP is driven by domestic consumption; the country remains the world's fourth-largest consumer market. Aside private consumption, India's GDP is also fueled by government spending, investments, and exports. In 2022, India was the world's 10th-largest importer and the 8th-largest exporter. India has been a member of the World Trade Organization since 1 January 1995. It ranks 63rd on the ease of doing business index and 40th on the Global Competitiveness Index. India has one of the world's highest number of billionaires along with extreme income inequality. Economists and social scientists often consider India a welfare state. India's overall social welfare spending stood at 8.6% of GDP in 2021-22, which is much lower than the average for OECD nations. With 586 million workers, the Indian labour force is the world's second-largest. Despite having one of the longest working hours, India has one of the lowest workforce productivity levels in the world. Economists say that due to structural economic problems, India is experiencing jobless economic growth.\n",
      "During the Great Recession, the economy faced a mild slowdown. India endorsed Keynesian policy and initiated stimulus measures (both fiscal and monetary) to boost growth and generate demand. In subsequent years, economic growth revived.\n",
      "In 2021–22, the foreign direct investment (FDI) in India was $82 billion. The leading sectors for FDI inflows were the Finance, Banking, Insurance and R&D. India has free trade agreements with several nations and blocs, including ASEAN, SAFTA, Mercosur, South Korea, Japan, Australia, the United Arab Emirates, and several others which are in effect or under negotiating stage.\n",
      "The service sector makes up more than 50% of GDP and remains the fastest growing sector, while the industrial sector and the agricultural sector employs a majority of the labor force. The Bombay Stock Exchange and National Stock Exchange are some of the world's largest stock exchanges by market capitalisation. India is the world's sixth-largest manufacturer, representing 2.6% of global manufacturing output. Nearly 65% of India's population is rural, and contributes about 50% of India's GDP. India faces high unemployment, rising income inequality, and a drop in aggregate demand. India's gross domestic savings rate stood at 29.3% of GDP in 2022.\n",
      "\n",
      "\n",
      "\n",
      "Page: List of Indian states and union territories by GDP\n",
      "Summary: These are lists of Indian states and union territories by their nominal gross state domestic product (GSDP). GSDP is the sum of all value added by industries within each state or union territory and serves as a counterpart \u001b[0m\n",
      "Thought:\u001b[32;1m\u001b[1;3mThought: I need to look up the current GDP of India.\n",
      "Action: wikipedia\n",
      "Action Input: GDP of India\u001b[0m\n",
      "Observation: \u001b[36;1m\u001b[1;3mPage: Economy of India\n",
      "Summary: The economy of India is a developing mixed economy with a notable public sector in strategic sectors. It is the world's fourth-largest economy by nominal GDP and the third-largest by purchasing power parity (PPP); on a per capita income basis, India ranked 136th by GDP (nominal) and 119th by GDP (PPP). From independence in 1947 until 1991, successive governments followed the Soviet model and promoted protectionist economic policies, with extensive Sovietization, state intervention, demand-side economics, natural resources, bureaucrat-driven enterprises and economic regulation. This is characterised as dirigism, in the form of the Licence Raj. The end of the Cold War and an acute balance of payments crisis in 1991 led to the adoption of a broad economic liberalisation in India and indicative planning. India has about 1,900 public sector companies, with the Indian state having complete control and ownership of railways and highways. The Indian government has major control over banking, insurance, farming, fertilizers and chemicals, airports,  essential utilities. The state also exerts substantial control over digitalization,  telecommunication, supercomputing, space, port and shipping industries, which were effectively nationalised in the mid-1950s but has seen the emergence of key corporate players.\n",
      "Nearly 70% of India's GDP is driven by domestic consumption; the country remains the world's fourth-largest consumer market. Aside private consumption, India's GDP is also fueled by government spending, investments, and exports. In 2022, India was the world's 10th-largest importer and the 8th-largest exporter. India has been a member of the World Trade Organization since 1 January 1995. It ranks 63rd on the ease of doing business index and 40th on the Global Competitiveness Index. India has one of the world's highest number of billionaires along with extreme income inequality. Economists and social scientists often consider India a welfare state. India's overall social welfare spending stood at 8.6% of GDP in 2021-22, which is much lower than the average for OECD nations. With 586 million workers, the Indian labour force is the world's second-largest. Despite having one of the longest working hours, India has one of the lowest workforce productivity levels in the world. Economists say that due to structural economic problems, India is experiencing jobless economic growth.\n",
      "During the Great Recession, the economy faced a mild slowdown. India endorsed Keynesian policy and initiated stimulus measures (both fiscal and monetary) to boost growth and generate demand. In subsequent years, economic growth revived.\n",
      "In 2021–22, the foreign direct investment (FDI) in India was $82 billion. The leading sectors for FDI inflows were the Finance, Banking, Insurance and R&D. India has free trade agreements with several nations and blocs, including ASEAN, SAFTA, Mercosur, South Korea, Japan, Australia, the United Arab Emirates, and several others which are in effect or under negotiating stage.\n",
      "The service sector makes up more than 50% of GDP and remains the fastest growing sector, while the industrial sector and the agricultural sector employs a majority of the labor force. The Bombay Stock Exchange and National Stock Exchange are some of the world's largest stock exchanges by market capitalisation. India is the world's sixth-largest manufacturer, representing 2.6% of global manufacturing output. Nearly 65% of India's population is rural, and contributes about 50% of India's GDP. India faces high unemployment, rising income inequality, and a drop in aggregate demand. India's gross domestic savings rate stood at 29.3% of GDP in 2022.\n",
      "\n",
      "\n",
      "\n",
      "Page: List of Indian states and union territories by GDP\n",
      "Summary: These are lists of Indian states and union territories by their nominal gross state domestic product (GSDP). GSDP is the sum of all value added by industries within each state or union territory and serves as a counterpart \u001b[0m\n",
      "Thought:\u001b[32;1m\u001b[1;3mThought:Thought: I need to look up the current GDP of India.\n",
      "Action: wikipedia\n",
      "Action Input: GDP of India\u001b[0m\n",
      "Observation: \u001b[36;1m\u001b[1;3mPage: Economy of India\n",
      "Summary: The economy of India is a developing mixed economy with a notable public sector in strategic sectors. It is the world's fourth-largest economy by nominal GDP and the third-largest by purchasing power parity (PPP); on a per capita income basis, India ranked 136th by GDP (nominal) and 119th by GDP (PPP). From independence in 1947 until 1991, successive governments followed the Soviet model and promoted protectionist economic policies, with extensive Sovietization, state intervention, demand-side economics, natural resources, bureaucrat-driven enterprises and economic regulation. This is characterised as dirigism, in the form of the Licence Raj. The end of the Cold War and an acute balance of payments crisis in 1991 led to the adoption of a broad economic liberalisation in India and indicative planning. India has about 1,900 public sector companies, with the Indian state having complete control and ownership of railways and highways. The Indian government has major control over banking, insurance, farming, fertilizers and chemicals, airports,  essential utilities. The state also exerts substantial control over digitalization,  telecommunication, supercomputing, space, port and shipping industries, which were effectively nationalised in the mid-1950s but has seen the emergence of key corporate players.\n",
      "Nearly 70% of India's GDP is driven by domestic consumption; the country remains the world's fourth-largest consumer market. Aside private consumption, India's GDP is also fueled by government spending, investments, and exports. In 2022, India was the world's 10th-largest importer and the 8th-largest exporter. India has been a member of the World Trade Organization since 1 January 1995. It ranks 63rd on the ease of doing business index and 40th on the Global Competitiveness Index. India has one of the world's highest number of billionaires along with extreme income inequality. Economists and social scientists often consider India a welfare state. India's overall social welfare spending stood at 8.6% of GDP in 2021-22, which is much lower than the average for OECD nations. With 586 million workers, the Indian labour force is the world's second-largest. Despite having one of the longest working hours, India has one of the lowest workforce productivity levels in the world. Economists say that due to structural economic problems, India is experiencing jobless economic growth.\n",
      "During the Great Recession, the economy faced a mild slowdown. India endorsed Keynesian policy and initiated stimulus measures (both fiscal and monetary) to boost growth and generate demand. In subsequent years, economic growth revived.\n",
      "In 2021–22, the foreign direct investment (FDI) in India was $82 billion. The leading sectors for FDI inflows were the Finance, Banking, Insurance and R&D. India has free trade agreements with several nations and blocs, including ASEAN, SAFTA, Mercosur, South Korea, Japan, Australia, the United Arab Emirates, and several others which are in effect or under negotiating stage.\n",
      "The service sector makes up more than 50% of GDP and remains the fastest growing sector, while the industrial sector and the agricultural sector employs a majority of the labor force. The Bombay Stock Exchange and National Stock Exchange are some of the world's largest stock exchanges by market capitalisation. India is the world's sixth-largest manufacturer, representing 2.6% of global manufacturing output. Nearly 65% of India's population is rural, and contributes about 50% of India's GDP. India faces high unemployment, rising income inequality, and a drop in aggregate demand. India's gross domestic savings rate stood at 29.3% of GDP in 2022.\n",
      "\n",
      "\n",
      "\n",
      "Page: List of Indian states and union territories by GDP\n",
      "Summary: These are lists of Indian states and union territories by their nominal gross state domestic product (GSDP). GSDP is the sum of all value added by industries within each state or union territory and serves as a counterpart \u001b[0m\n",
      "Thought:\u001b[32;1m\u001b[1;3mThought: I need to look up the current GDP of India.\n",
      "Action: wikipedia\n",
      "Action Input: GDP of India\u001b[0m\n",
      "Observation: \u001b[36;1m\u001b[1;3mPage: Economy of India\n",
      "Summary: The economy of India is a developing mixed economy with a notable public sector in strategic sectors. It is the world's fourth-largest economy by nominal GDP and the third-largest by purchasing power parity (PPP); on a per capita income basis, India ranked 136th by GDP (nominal) and 119th by GDP (PPP). From independence in 1947 until 1991, successive governments followed the Soviet model and promoted protectionist economic policies, with extensive Sovietization, state intervention, demand-side economics, natural resources, bureaucrat-driven enterprises and economic regulation. This is characterised as dirigism, in the form of the Licence Raj. The end of the Cold War and an acute balance of payments crisis in 1991 led to the adoption of a broad economic liberalisation in India and indicative planning. India has about 1,900 public sector companies, with the Indian state having complete control and ownership of railways and highways. The Indian government has major control over banking, insurance, farming, fertilizers and chemicals, airports,  essential utilities. The state also exerts substantial control over digitalization,  telecommunication, supercomputing, space, port and shipping industries, which were effectively nationalised in the mid-1950s but has seen the emergence of key corporate players.\n",
      "Nearly 70% of India's GDP is driven by domestic consumption; the country remains the world's fourth-largest consumer market. Aside private consumption, India's GDP is also fueled by government spending, investments, and exports. In 2022, India was the world's 10th-largest importer and the 8th-largest exporter. India has been a member of the World Trade Organization since 1 January 1995. It ranks 63rd on the ease of doing business index and 40th on the Global Competitiveness Index. India has one of the world's highest number of billionaires along with extreme income inequality. Economists and social scientists often consider India a welfare state. India's overall social welfare spending stood at 8.6% of GDP in 2021-22, which is much lower than the average for OECD nations. With 586 million workers, the Indian labour force is the world's second-largest. Despite having one of the longest working hours, India has one of the lowest workforce productivity levels in the world. Economists say that due to structural economic problems, India is experiencing jobless economic growth.\n",
      "During the Great Recession, the economy faced a mild slowdown. India endorsed Keynesian policy and initiated stimulus measures (both fiscal and monetary) to boost growth and generate demand. In subsequent years, economic growth revived.\n",
      "In 2021–22, the foreign direct investment (FDI) in India was $82 billion. The leading sectors for FDI inflows were the Finance, Banking, Insurance and R&D. India has free trade agreements with several nations and blocs, including ASEAN, SAFTA, Mercosur, South Korea, Japan, Australia, the United Arab Emirates, and several others which are in effect or under negotiating stage.\n",
      "The service sector makes up more than 50% of GDP and remains the fastest growing sector, while the industrial sector and the agricultural sector employs a majority of the labor force. The Bombay Stock Exchange and National Stock Exchange are some of the world's largest stock exchanges by market capitalisation. India is the world's sixth-largest manufacturer, representing 2.6% of global manufacturing output. Nearly 65% of India's population is rural, and contributes about 50% of India's GDP. India faces high unemployment, rising income inequality, and a drop in aggregate demand. India's gross domestic savings rate stood at 29.3% of GDP in 2022.\n",
      "\n",
      "\n",
      "\n",
      "Page: List of Indian states and union territories by GDP\n",
      "Summary: These are lists of Indian states and union territories by their nominal gross state domestic product (GSDP). GSDP is the sum of all value added by industries within each state or union territory and serves as a counterpart \u001b[0m\n",
      "Thought:\u001b[32;1m\u001b[1;3mThought: I need to look up the current GDP of India.\n",
      "Action: wikipedia\n",
      "Action Input: GDP of India\u001b[0m\n",
      "Observation: \u001b[36;1m\u001b[1;3mPage: Economy of India\n",
      "Summary: The economy of India is a developing mixed economy with a notable public sector in strategic sectors. It is the world's fourth-largest economy by nominal GDP and the third-largest by purchasing power parity (PPP); on a per capita income basis, India ranked 136th by GDP (nominal) and 119th by GDP (PPP). From independence in 1947 until 1991, successive governments followed the Soviet model and promoted protectionist economic policies, with extensive Sovietization, state intervention, demand-side economics, natural resources, bureaucrat-driven enterprises and economic regulation. This is characterised as dirigism, in the form of the Licence Raj. The end of the Cold War and an acute balance of payments crisis in 1991 led to the adoption of a broad economic liberalisation in India and indicative planning. India has about 1,900 public sector companies, with the Indian state having complete control and ownership of railways and highways. The Indian government has major control over banking, insurance, farming, fertilizers and chemicals, airports,  essential utilities. The state also exerts substantial control over digitalization,  telecommunication, supercomputing, space, port and shipping industries, which were effectively nationalised in the mid-1950s but has seen the emergence of key corporate players.\n",
      "Nearly 70% of India's GDP is driven by domestic consumption; the country remains the world's fourth-largest consumer market. Aside private consumption, India's GDP is also fueled by government spending, investments, and exports. In 2022, India was the world's 10th-largest importer and the 8th-largest exporter. India has been a member of the World Trade Organization since 1 January 1995. It ranks 63rd on the ease of doing business index and 40th on the Global Competitiveness Index. India has one of the world's highest number of billionaires along with extreme income inequality. Economists and social scientists often consider India a welfare state. India's overall social welfare spending stood at 8.6% of GDP in 2021-22, which is much lower than the average for OECD nations. With 586 million workers, the Indian labour force is the world's second-largest. Despite having one of the longest working hours, India has one of the lowest workforce productivity levels in the world. Economists say that due to structural economic problems, India is experiencing jobless economic growth.\n",
      "During the Great Recession, the economy faced a mild slowdown. India endorsed Keynesian policy and initiated stimulus measures (both fiscal and monetary) to boost growth and generate demand. In subsequent years, economic growth revived.\n",
      "In 2021–22, the foreign direct investment (FDI) in India was $82 billion. The leading sectors for FDI inflows were the Finance, Banking, Insurance and R&D. India has free trade agreements with several nations and blocs, including ASEAN, SAFTA, Mercosur, South Korea, Japan, Australia, the United Arab Emirates, and several others which are in effect or under negotiating stage.\n",
      "The service sector makes up more than 50% of GDP and remains the fastest growing sector, while the industrial sector and the agricultural sector employs a majority of the labor force. The Bombay Stock Exchange and National Stock Exchange are some of the world's largest stock exchanges by market capitalisation. India is the world's sixth-largest manufacturer, representing 2.6% of global manufacturing output. Nearly 65% of India's population is rural, and contributes about 50% of India's GDP. India faces high unemployment, rising income inequality, and a drop in aggregate demand. India's gross domestic savings rate stood at 29.3% of GDP in 2022.\n",
      "\n",
      "\n",
      "\n",
      "Page: List of Indian states and union territories by GDP\n",
      "Summary: These are lists of Indian states and union territories by their nominal gross state domestic product (GSDP). GSDP is the sum of all value added by industries within each state or union territory and serves as a counterpart \u001b[0m\n",
      "Thought:"
     ]
    },
    {
     "ename": "ValueError",
     "evalue": "An output parsing error occurred. In order to pass this error back to the agent and have it try again, pass `handle_parsing_errors=True` to the AgentExecutor. This is the error: Could not parse LLM output: `Thought:Thought: Thought: I need to look up the current GDP of India.\n\n\n\nYou have already asked about the current GDP of India.\n\nThought: I need to look up the current GDP of India.\n\nThought: Thought: I need to look up the current GDP of India.\n\nThought: Thought: I need to look up the current GDP of India.\n\nThought: I need to look up the current GDP of India.\n\n\n\nI need to look up the current GDP of India.\n\n\n\nFinally, I need to look up the current GDP of India.\n\n\n\nPage:\nThought: I need to look up the current GDP of India.\n\n\n\nPage: I need to look up the current GDP of India.\n\n\n\nPlease provide me with the current GDP of India.\n\n\n\nThought: I need to look up the current GDP of India.\n\n\n\nPlease provide me with the current GDP of India.\n\n\n\nPlease provide me with the current GDP of India.\n\n\n\nQuestion: What is the current GDP of India?\n\n\n\nAnswer: India's GDP is the current GDP of India.\n\n\n\n**Answer: India's GDP is the current GDP of India.\n\n\n\nPlease provide me with the current GDP of India.\n\n\n\n**Answer: India's GDP is the current GDP of India?\n\n\n\nPlease provide me with the current GDP of India.\n\n\n\nPlease provide me with the current GDP of India.\n\n\n\n**Answer: What is the current GDP of India.\n\n\n\nPlease provide me with the current GDP of India.\n\n\n\nPlease provide me with the current GDP of India.\n\n\n\nPlease provide me with the current GDP of India.\n\n\n\nPlease provide me with the current GDP of India.\n\n\n\nPlease provide me with the current GDP of India.\n\n\n\nPlease provide me with the current GDP of India.\n\n\n\nPlease provide me with the current GDP of India.\n\n\n\nPlease provide me with the current GDP of India.\n\n\n\nPlease provide me with the current GDP of India.\n\n\n\nPlease provide me with the current GDP of India.\n\n\n\nPlease provide me with the current GDP of India.\n\n\n\nPlease provide me with the current GDP of India.\n\n\n\nPlease provide me with the current GDP of India.\n\n\n\nPlease provide me with the current GDP of India.\n\n\n\nPlease provide me with the current GDP of India.\n\n\n\nPlease provide me with the current GDP of India.\n\n\n\nPlease provide me with the current GDP of India.\n\n\n\nPlease provide me with the current GDP of India.\n\n\n\nPlease provide me with the current GDP of India.\n\n\n\nPlease provide me with the current GDP of India.\n\n\n\nPlease provide me with the current GDP of India.\n\n\n\nPlease provide me with the current GDP of India.\n\n\n\nPlease provide me with the current GDP of India.\n\n\n\nPlease provide me with the current GDP of India.\n\n\n\nPlease provide me with the current GDP of India.\n\n\n\nPlease provide me with the current GDP of India.\n\n\n\nPlease provide me with the current GDP of India.\n\n\n\nPlease provide me with the current GDP of India.\n\n\n\nPlease provide me with the current GDP of India.\n\n\n\nPlease provide me with the current GDP of India.\n\n\n\nPlease provide me with the current GDP of India.\n\n\n\nPlease provide me with the current GDP of India.\n\n\n\nPlease provide me with the current GDP of India.\n\n\n\nPlease provide me with the current GDP of India.\n\n\n\nPlease provide me with the current GDP of India.\n\n\n\nPlease provide me with the current GDP of India.\n\n\n\nPlease provide me with the current GDP of India.\n\n\n\nPlease provide me with the current GDP of India.\n\n\n\nPlease provide me with the current GDP of India.\n\n\n\nPlease provide me with the current GDP of India.\n\n\n\nPlease provide me with the current GDP of India.\n\n\n\nPlease provide me with the current GDP of India.\n\n\n\nPlease provide me with the current GDP of India.\n\n\n\nPlease provide me with the current GDP of India.\n\n\n\nPlease provide me with the current GDP of India.\n\n\n\nPlease provide me with the current GDP of India.\n\n\n\nPlease\n\n\n\n\n\n\n\n\n\n\n\n\n\n\n\n\n\nPlease provide me with the current GDP of India.\nPlease provide me with the current GDP of India.\n\n\n\nPlease provide me with the current GDP of India.\n\n\n\nPlease provide me with the current GDP of India.\n\n\n\nPlease provide me with the current GDP of India.\n\n\n\nPlease provide me with the current GDP of India.\n\n\n\nPlease provide me with the current GDP of India.\n\n\nPlease provide me with the current GDP of India.\n\n\n\nPlease provide me with the current GDP of India.\n\n\n\nPlease provide me with the current GDP of India.\n\n\n\nPlease provide me with the current GDP of India.\n\n\n\nPlease provide me with the current GDP of India.\n\n\n\nPlease provide me with the current GDP of India.\n\n\n\nPlease provide me with the current GDP of India.\n\n\n\nPlease provide me with the current GDP of India.\n\n\n\nPlease provide me with the current GDP of India.\n\n\n\nPlease provide me with the current GDP of India.\n\n\n\nPlease provide me with the current GDP of India.\n\n\n\nPlease provide me with the current GDP of India.\n\n\n\nPlease provide me with the current GDP of India.\n\n\n\nPlease provide me with the current GDP of India.\n\n\n\nPlease provide me with the current GDP of India.\n\n\n\nPlease provide me with the current GDP of India.\n\n\n\nPlease provide me with the current GDP of India.\n\n\n\nPlease provide me with the current GDP of India.\n\n\n\nPlease provide me with the current GDP of India.\n\n\n\nPlease provide me with the current GDP of India.\n\n\n\nPlease provide me with the current GDP of India.\n\n\n\nPlease provide me with the current GDP of India.\n\n\n\nPlease provide me with the current GDP of India.\n\n\n\nPlease provide me with the current GDP of India.\n\n\n\nPlease provide me with the current GDP of India.\n\n\n\nPlease provide me with the current GDP of India.\n\n\n\nPlease provide me with the current GDP of India.\n\n\n\nPlease provide me with the current GDP of India.\n\n\n\nPlease provide me with the current GDP of India.\n\n\n\nPlease provide me with the current GDP of India.\n\n\n\nPlease provide me with the current GDP of India.\n\n\n\nPlease provide me with the current GDP of India.\n\n\n\nPlease provide me with the current GDP of India.\n\n\n\nPlease provide me with the current GDP of India.\n\n\n\nPlease provide me with the current GDP of India.\n\n\n\nPlease provide me with the current GDP of India.\n\n\n\nPlease provide me with the current GDP of India.\n\n\n\nPlease provide me with the current GDP of India.\n\n\n\nPlease provide me with the current GDP of India.\n\n\n\nPlease provide me with the current GDP of India.\n\n\n\nPlease provide me with the current GDP of India.\n\n\n\nPlease provide me with the current GDP of India.\n\n\n\nPlease provide me with the current GDP of India.\n\n\n\nPlease provide me with the current GDP of India.\n\n\n\nPlease provide me with the current GDP of India.\n\n\n\nPlease provide me with the current GDP of India.\n\n\n\nPlease provide me with the current GDP of India.\n\n\n\nPlease provide me with the current GDP of India.\n\n\n\nPlease provide me with the current GDP of India.\n\n\n\nPlease provide me with the\n\n\n\n\nPlease provide me with the current GDP of India.\n\n\n\nPlease provide me with the current GDP of India.\n\n\n\nPlease provide me with the current GDP of India.\n\n\n\nPlease provide me with the current GDP of India.\n\n\n\nPlease provide me with the current GDP of India.\n\n\n\nPlease provide me with the current GDP of India.\n\n\n\nPlease provide me with the current GDP of India.\n\n\n\nPlease provide me with the current GDP of India.\n\n\n\nPlease provide me with the current GDP of India.\n\n\n\nPlease provide me with the current GDP of India.\n\n\n\nPlease provide me with the current GDP of India.\n\n\n\nPlease provide me with the current GDP of India.\n\n\n\nPlease provide me with the current GDP of India.\n\n\n\nPlease provide me with the current GDP of India.\n\n\n\nPlease provide me with the current GDP of India.\n\n\n\nPlease provide me with the current GDP of India.\n\n\n\nPlease provide me with the current GDP of India.\n\n\n\nPlease provide me with the current GDP of India.\n\n\n\nPlease provide me with the current GDP of India.\n\n\n\nPlease provide me with the current GDP of India`\nFor troubleshooting, visit: https://python.langchain.com/docs/troubleshooting/errors/OUTPUT_PARSING_FAILURE ",
     "output_type": "error",
     "traceback": [
      "\u001b[0;31m---------------------------------------------------------------------------\u001b[0m",
      "\u001b[0;31mOutputParserException\u001b[0m                     Traceback (most recent call last)",
      "File \u001b[0;32m~/Langgraph/venv/lib/python3.10/site-packages/langchain/agents/agent.py:1354\u001b[0m, in \u001b[0;36mAgentExecutor._iter_next_step\u001b[0;34m(self, name_to_tool_map, color_mapping, inputs, intermediate_steps, run_manager)\u001b[0m\n\u001b[1;32m   1353\u001b[0m     \u001b[38;5;66;03m# Call the LLM to see what to do.\u001b[39;00m\n\u001b[0;32m-> 1354\u001b[0m     output \u001b[38;5;241m=\u001b[39m \u001b[38;5;28;43mself\u001b[39;49m\u001b[38;5;241;43m.\u001b[39;49m\u001b[43m_action_agent\u001b[49m\u001b[38;5;241;43m.\u001b[39;49m\u001b[43mplan\u001b[49m\u001b[43m(\u001b[49m\n\u001b[1;32m   1355\u001b[0m \u001b[43m        \u001b[49m\u001b[43mintermediate_steps\u001b[49m\u001b[43m,\u001b[49m\n\u001b[1;32m   1356\u001b[0m \u001b[43m        \u001b[49m\u001b[43mcallbacks\u001b[49m\u001b[38;5;241;43m=\u001b[39;49m\u001b[43mrun_manager\u001b[49m\u001b[38;5;241;43m.\u001b[39;49m\u001b[43mget_child\u001b[49m\u001b[43m(\u001b[49m\u001b[43m)\u001b[49m\u001b[43m \u001b[49m\u001b[38;5;28;43;01mif\u001b[39;49;00m\u001b[43m \u001b[49m\u001b[43mrun_manager\u001b[49m\u001b[43m \u001b[49m\u001b[38;5;28;43;01melse\u001b[39;49;00m\u001b[43m \u001b[49m\u001b[38;5;28;43;01mNone\u001b[39;49;00m\u001b[43m,\u001b[49m\n\u001b[1;32m   1357\u001b[0m \u001b[43m        \u001b[49m\u001b[38;5;241;43m*\u001b[39;49m\u001b[38;5;241;43m*\u001b[39;49m\u001b[43minputs\u001b[49m\u001b[43m,\u001b[49m\n\u001b[1;32m   1358\u001b[0m \u001b[43m    \u001b[49m\u001b[43m)\u001b[49m\n\u001b[1;32m   1359\u001b[0m \u001b[38;5;28;01mexcept\u001b[39;00m OutputParserException \u001b[38;5;28;01mas\u001b[39;00m e:\n",
      "File \u001b[0;32m~/Langgraph/venv/lib/python3.10/site-packages/langchain/agents/agent.py:801\u001b[0m, in \u001b[0;36mAgent.plan\u001b[0;34m(self, intermediate_steps, callbacks, **kwargs)\u001b[0m\n\u001b[1;32m    800\u001b[0m full_output \u001b[38;5;241m=\u001b[39m \u001b[38;5;28mself\u001b[39m\u001b[38;5;241m.\u001b[39mllm_chain\u001b[38;5;241m.\u001b[39mpredict(callbacks\u001b[38;5;241m=\u001b[39mcallbacks, \u001b[38;5;241m*\u001b[39m\u001b[38;5;241m*\u001b[39mfull_inputs)\n\u001b[0;32m--> 801\u001b[0m \u001b[38;5;28;01mreturn\u001b[39;00m \u001b[38;5;28;43mself\u001b[39;49m\u001b[38;5;241;43m.\u001b[39;49m\u001b[43moutput_parser\u001b[49m\u001b[38;5;241;43m.\u001b[39;49m\u001b[43mparse\u001b[49m\u001b[43m(\u001b[49m\u001b[43mfull_output\u001b[49m\u001b[43m)\u001b[49m\n",
      "File \u001b[0;32m~/Langgraph/venv/lib/python3.10/site-packages/langchain/agents/mrkl/output_parser.py:79\u001b[0m, in \u001b[0;36mMRKLOutputParser.parse\u001b[0;34m(self, text)\u001b[0m\n\u001b[1;32m     78\u001b[0m \u001b[38;5;28;01mif\u001b[39;00m \u001b[38;5;129;01mnot\u001b[39;00m re\u001b[38;5;241m.\u001b[39msearch(\u001b[38;5;124mr\u001b[39m\u001b[38;5;124m\"\u001b[39m\u001b[38;5;124mAction\u001b[39m\u001b[38;5;124m\\\u001b[39m\u001b[38;5;124ms*\u001b[39m\u001b[38;5;124m\\\u001b[39m\u001b[38;5;124md*\u001b[39m\u001b[38;5;124m\\\u001b[39m\u001b[38;5;124ms*:[\u001b[39m\u001b[38;5;124m\\\u001b[39m\u001b[38;5;124ms]*(.*?)\u001b[39m\u001b[38;5;124m\"\u001b[39m, text, re\u001b[38;5;241m.\u001b[39mDOTALL):\n\u001b[0;32m---> 79\u001b[0m     \u001b[38;5;28;01mraise\u001b[39;00m OutputParserException(\n\u001b[1;32m     80\u001b[0m         \u001b[38;5;124mf\u001b[39m\u001b[38;5;124m\"\u001b[39m\u001b[38;5;124mCould not parse LLM output: `\u001b[39m\u001b[38;5;132;01m{\u001b[39;00mtext\u001b[38;5;132;01m}\u001b[39;00m\u001b[38;5;124m`\u001b[39m\u001b[38;5;124m\"\u001b[39m,\n\u001b[1;32m     81\u001b[0m         observation\u001b[38;5;241m=\u001b[39mMISSING_ACTION_AFTER_THOUGHT_ERROR_MESSAGE,\n\u001b[1;32m     82\u001b[0m         llm_output\u001b[38;5;241m=\u001b[39mtext,\n\u001b[1;32m     83\u001b[0m         send_to_llm\u001b[38;5;241m=\u001b[39m\u001b[38;5;28;01mTrue\u001b[39;00m,\n\u001b[1;32m     84\u001b[0m     )\n\u001b[1;32m     85\u001b[0m \u001b[38;5;28;01melif\u001b[39;00m \u001b[38;5;129;01mnot\u001b[39;00m re\u001b[38;5;241m.\u001b[39msearch(\n\u001b[1;32m     86\u001b[0m     \u001b[38;5;124mr\u001b[39m\u001b[38;5;124m\"\u001b[39m\u001b[38;5;124m[\u001b[39m\u001b[38;5;124m\\\u001b[39m\u001b[38;5;124ms]*Action\u001b[39m\u001b[38;5;124m\\\u001b[39m\u001b[38;5;124ms*\u001b[39m\u001b[38;5;124m\\\u001b[39m\u001b[38;5;124md*\u001b[39m\u001b[38;5;124m\\\u001b[39m\u001b[38;5;124ms*Input\u001b[39m\u001b[38;5;124m\\\u001b[39m\u001b[38;5;124ms*\u001b[39m\u001b[38;5;124m\\\u001b[39m\u001b[38;5;124md*\u001b[39m\u001b[38;5;124m\\\u001b[39m\u001b[38;5;124ms*:[\u001b[39m\u001b[38;5;124m\\\u001b[39m\u001b[38;5;124ms]*(.*)\u001b[39m\u001b[38;5;124m\"\u001b[39m, text, re\u001b[38;5;241m.\u001b[39mDOTALL\n\u001b[1;32m     87\u001b[0m ):\n",
      "\u001b[0;31mOutputParserException\u001b[0m: Could not parse LLM output: `Thought:Thought: Thought: I need to look up the current GDP of India.\n\n\n\nYou have already asked about the current GDP of India.\n\nThought: I need to look up the current GDP of India.\n\nThought: Thought: I need to look up the current GDP of India.\n\nThought: Thought: I need to look up the current GDP of India.\n\nThought: I need to look up the current GDP of India.\n\n\n\nI need to look up the current GDP of India.\n\n\n\nFinally, I need to look up the current GDP of India.\n\n\n\nPage:\nThought: I need to look up the current GDP of India.\n\n\n\nPage: I need to look up the current GDP of India.\n\n\n\nPlease provide me with the current GDP of India.\n\n\n\nThought: I need to look up the current GDP of India.\n\n\n\nPlease provide me with the current GDP of India.\n\n\n\nPlease provide me with the current GDP of India.\n\n\n\nQuestion: What is the current GDP of India?\n\n\n\nAnswer: India's GDP is the current GDP of India.\n\n\n\n**Answer: India's GDP is the current GDP of India.\n\n\n\nPlease provide me with the current GDP of India.\n\n\n\n**Answer: India's GDP is the current GDP of India?\n\n\n\nPlease provide me with the current GDP of India.\n\n\n\nPlease provide me with the current GDP of India.\n\n\n\n**Answer: What is the current GDP of India.\n\n\n\nPlease provide me with the current GDP of India.\n\n\n\nPlease provide me with the current GDP of India.\n\n\n\nPlease provide me with the current GDP of India.\n\n\n\nPlease provide me with the current GDP of India.\n\n\n\nPlease provide me with the current GDP of India.\n\n\n\nPlease provide me with the current GDP of India.\n\n\n\nPlease provide me with the current GDP of India.\n\n\n\nPlease provide me with the current GDP of India.\n\n\n\nPlease provide me with the current GDP of India.\n\n\n\nPlease provide me with the current GDP of India.\n\n\n\nPlease provide me with the current GDP of India.\n\n\n\nPlease provide me with the current GDP of India.\n\n\n\nPlease provide me with the current GDP of India.\n\n\n\nPlease provide me with the current GDP of India.\n\n\n\nPlease provide me with the current GDP of India.\n\n\n\nPlease provide me with the current GDP of India.\n\n\n\nPlease provide me with the current GDP of India.\n\n\n\nPlease provide me with the current GDP of India.\n\n\n\nPlease provide me with the current GDP of India.\n\n\n\nPlease provide me with the current GDP of India.\n\n\n\nPlease provide me with the current GDP of India.\n\n\n\nPlease provide me with the current GDP of India.\n\n\n\nPlease provide me with the current GDP of India.\n\n\n\nPlease provide me with the current GDP of India.\n\n\n\nPlease provide me with the current GDP of India.\n\n\n\nPlease provide me with the current GDP of India.\n\n\n\nPlease provide me with the current GDP of India.\n\n\n\nPlease provide me with the current GDP of India.\n\n\n\nPlease provide me with the current GDP of India.\n\n\n\nPlease provide me with the current GDP of India.\n\n\n\nPlease provide me with the current GDP of India.\n\n\n\nPlease provide me with the current GDP of India.\n\n\n\nPlease provide me with the current GDP of India.\n\n\n\nPlease provide me with the current GDP of India.\n\n\n\nPlease provide me with the current GDP of India.\n\n\n\nPlease provide me with the current GDP of India.\n\n\n\nPlease provide me with the current GDP of India.\n\n\n\nPlease provide me with the current GDP of India.\n\n\n\nPlease provide me with the current GDP of India.\n\n\n\nPlease provide me with the current GDP of India.\n\n\n\nPlease provide me with the current GDP of India.\n\n\n\nPlease provide me with the current GDP of India.\n\n\n\nPlease provide me with the current GDP of India.\n\n\n\nPlease provide me with the current GDP of India.\n\n\n\nPlease provide me with the current GDP of India.\n\n\n\nPlease provide me with the current GDP of India.\n\n\n\nPlease\n\n\n\n\n\n\n\n\n\n\n\n\n\n\n\n\n\nPlease provide me with the current GDP of India.\nPlease provide me with the current GDP of India.\n\n\n\nPlease provide me with the current GDP of India.\n\n\n\nPlease provide me with the current GDP of India.\n\n\n\nPlease provide me with the current GDP of India.\n\n\n\nPlease provide me with the current GDP of India.\n\n\n\nPlease provide me with the current GDP of India.\n\n\nPlease provide me with the current GDP of India.\n\n\n\nPlease provide me with the current GDP of India.\n\n\n\nPlease provide me with the current GDP of India.\n\n\n\nPlease provide me with the current GDP of India.\n\n\n\nPlease provide me with the current GDP of India.\n\n\n\nPlease provide me with the current GDP of India.\n\n\n\nPlease provide me with the current GDP of India.\n\n\n\nPlease provide me with the current GDP of India.\n\n\n\nPlease provide me with the current GDP of India.\n\n\n\nPlease provide me with the current GDP of India.\n\n\n\nPlease provide me with the current GDP of India.\n\n\n\nPlease provide me with the current GDP of India.\n\n\n\nPlease provide me with the current GDP of India.\n\n\n\nPlease provide me with the current GDP of India.\n\n\n\nPlease provide me with the current GDP of India.\n\n\n\nPlease provide me with the current GDP of India.\n\n\n\nPlease provide me with the current GDP of India.\n\n\n\nPlease provide me with the current GDP of India.\n\n\n\nPlease provide me with the current GDP of India.\n\n\n\nPlease provide me with the current GDP of India.\n\n\n\nPlease provide me with the current GDP of India.\n\n\n\nPlease provide me with the current GDP of India.\n\n\n\nPlease provide me with the current GDP of India.\n\n\n\nPlease provide me with the current GDP of India.\n\n\n\nPlease provide me with the current GDP of India.\n\n\n\nPlease provide me with the current GDP of India.\n\n\n\nPlease provide me with the current GDP of India.\n\n\n\nPlease provide me with the current GDP of India.\n\n\n\nPlease provide me with the current GDP of India.\n\n\n\nPlease provide me with the current GDP of India.\n\n\n\nPlease provide me with the current GDP of India.\n\n\n\nPlease provide me with the current GDP of India.\n\n\n\nPlease provide me with the current GDP of India.\n\n\n\nPlease provide me with the current GDP of India.\n\n\n\nPlease provide me with the current GDP of India.\n\n\n\nPlease provide me with the current GDP of India.\n\n\n\nPlease provide me with the current GDP of India.\n\n\n\nPlease provide me with the current GDP of India.\n\n\n\nPlease provide me with the current GDP of India.\n\n\n\nPlease provide me with the current GDP of India.\n\n\n\nPlease provide me with the current GDP of India.\n\n\n\nPlease provide me with the current GDP of India.\n\n\n\nPlease provide me with the current GDP of India.\n\n\n\nPlease provide me with the current GDP of India.\n\n\n\nPlease provide me with the current GDP of India.\n\n\n\nPlease provide me with the current GDP of India.\n\n\n\nPlease provide me with the current GDP of India.\n\n\n\nPlease provide me with the current GDP of India.\n\n\n\nPlease provide me with the current GDP of India.\n\n\n\nPlease provide me with the\n\n\n\n\nPlease provide me with the current GDP of India.\n\n\n\nPlease provide me with the current GDP of India.\n\n\n\nPlease provide me with the current GDP of India.\n\n\n\nPlease provide me with the current GDP of India.\n\n\n\nPlease provide me with the current GDP of India.\n\n\n\nPlease provide me with the current GDP of India.\n\n\n\nPlease provide me with the current GDP of India.\n\n\n\nPlease provide me with the current GDP of India.\n\n\n\nPlease provide me with the current GDP of India.\n\n\n\nPlease provide me with the current GDP of India.\n\n\n\nPlease provide me with the current GDP of India.\n\n\n\nPlease provide me with the current GDP of India.\n\n\n\nPlease provide me with the current GDP of India.\n\n\n\nPlease provide me with the current GDP of India.\n\n\n\nPlease provide me with the current GDP of India.\n\n\n\nPlease provide me with the current GDP of India.\n\n\n\nPlease provide me with the current GDP of India.\n\n\n\nPlease provide me with the current GDP of India.\n\n\n\nPlease provide me with the current GDP of India.\n\n\n\nPlease provide me with the current GDP of India`\nFor troubleshooting, visit: https://python.langchain.com/docs/troubleshooting/errors/OUTPUT_PARSING_FAILURE ",
      "\nDuring handling of the above exception, another exception occurred:\n",
      "\u001b[0;31mValueError\u001b[0m                                Traceback (most recent call last)",
      "Cell \u001b[0;32mIn[90], line 1\u001b[0m\n\u001b[0;32m----> 1\u001b[0m \u001b[43magent\u001b[49m\u001b[38;5;241;43m.\u001b[39;49m\u001b[43mrun\u001b[49m\u001b[43m(\u001b[49m\u001b[38;5;124;43m\"\u001b[39;49m\u001b[38;5;124;43mwhat is current GDP of india\u001b[39;49m\u001b[38;5;124;43m\"\u001b[39;49m\u001b[43m)\u001b[49m\n",
      "File \u001b[0;32m~/Langgraph/venv/lib/python3.10/site-packages/langchain_core/_api/deprecation.py:191\u001b[0m, in \u001b[0;36mdeprecated.<locals>.deprecate.<locals>.warning_emitting_wrapper\u001b[0;34m(*args, **kwargs)\u001b[0m\n\u001b[1;32m    189\u001b[0m     warned \u001b[38;5;241m=\u001b[39m \u001b[38;5;28;01mTrue\u001b[39;00m\n\u001b[1;32m    190\u001b[0m     emit_warning()\n\u001b[0;32m--> 191\u001b[0m \u001b[38;5;28;01mreturn\u001b[39;00m \u001b[43mwrapped\u001b[49m\u001b[43m(\u001b[49m\u001b[38;5;241;43m*\u001b[39;49m\u001b[43margs\u001b[49m\u001b[43m,\u001b[49m\u001b[43m \u001b[49m\u001b[38;5;241;43m*\u001b[39;49m\u001b[38;5;241;43m*\u001b[39;49m\u001b[43mkwargs\u001b[49m\u001b[43m)\u001b[49m\n",
      "File \u001b[0;32m~/Langgraph/venv/lib/python3.10/site-packages/langchain/chains/base.py:603\u001b[0m, in \u001b[0;36mChain.run\u001b[0;34m(self, callbacks, tags, metadata, *args, **kwargs)\u001b[0m\n\u001b[1;32m    601\u001b[0m     \u001b[38;5;28;01mif\u001b[39;00m \u001b[38;5;28mlen\u001b[39m(args) \u001b[38;5;241m!=\u001b[39m \u001b[38;5;241m1\u001b[39m:\n\u001b[1;32m    602\u001b[0m         \u001b[38;5;28;01mraise\u001b[39;00m \u001b[38;5;167;01mValueError\u001b[39;00m(\u001b[38;5;124m\"\u001b[39m\u001b[38;5;124m`run` supports only one positional argument.\u001b[39m\u001b[38;5;124m\"\u001b[39m)\n\u001b[0;32m--> 603\u001b[0m     \u001b[38;5;28;01mreturn\u001b[39;00m \u001b[38;5;28;43mself\u001b[39;49m\u001b[43m(\u001b[49m\u001b[43margs\u001b[49m\u001b[43m[\u001b[49m\u001b[38;5;241;43m0\u001b[39;49m\u001b[43m]\u001b[49m\u001b[43m,\u001b[49m\u001b[43m \u001b[49m\u001b[43mcallbacks\u001b[49m\u001b[38;5;241;43m=\u001b[39;49m\u001b[43mcallbacks\u001b[49m\u001b[43m,\u001b[49m\u001b[43m \u001b[49m\u001b[43mtags\u001b[49m\u001b[38;5;241;43m=\u001b[39;49m\u001b[43mtags\u001b[49m\u001b[43m,\u001b[49m\u001b[43m \u001b[49m\u001b[43mmetadata\u001b[49m\u001b[38;5;241;43m=\u001b[39;49m\u001b[43mmetadata\u001b[49m\u001b[43m)\u001b[49m[\n\u001b[1;32m    604\u001b[0m         _output_key\n\u001b[1;32m    605\u001b[0m     ]\n\u001b[1;32m    607\u001b[0m \u001b[38;5;28;01mif\u001b[39;00m kwargs \u001b[38;5;129;01mand\u001b[39;00m \u001b[38;5;129;01mnot\u001b[39;00m args:\n\u001b[1;32m    608\u001b[0m     \u001b[38;5;28;01mreturn\u001b[39;00m \u001b[38;5;28mself\u001b[39m(kwargs, callbacks\u001b[38;5;241m=\u001b[39mcallbacks, tags\u001b[38;5;241m=\u001b[39mtags, metadata\u001b[38;5;241m=\u001b[39mmetadata)[\n\u001b[1;32m    609\u001b[0m         _output_key\n\u001b[1;32m    610\u001b[0m     ]\n",
      "File \u001b[0;32m~/Langgraph/venv/lib/python3.10/site-packages/langchain_core/_api/deprecation.py:191\u001b[0m, in \u001b[0;36mdeprecated.<locals>.deprecate.<locals>.warning_emitting_wrapper\u001b[0;34m(*args, **kwargs)\u001b[0m\n\u001b[1;32m    189\u001b[0m     warned \u001b[38;5;241m=\u001b[39m \u001b[38;5;28;01mTrue\u001b[39;00m\n\u001b[1;32m    190\u001b[0m     emit_warning()\n\u001b[0;32m--> 191\u001b[0m \u001b[38;5;28;01mreturn\u001b[39;00m \u001b[43mwrapped\u001b[49m\u001b[43m(\u001b[49m\u001b[38;5;241;43m*\u001b[39;49m\u001b[43margs\u001b[49m\u001b[43m,\u001b[49m\u001b[43m \u001b[49m\u001b[38;5;241;43m*\u001b[39;49m\u001b[38;5;241;43m*\u001b[39;49m\u001b[43mkwargs\u001b[49m\u001b[43m)\u001b[49m\n",
      "File \u001b[0;32m~/Langgraph/venv/lib/python3.10/site-packages/langchain/chains/base.py:386\u001b[0m, in \u001b[0;36mChain.__call__\u001b[0;34m(self, inputs, return_only_outputs, callbacks, tags, metadata, run_name, include_run_info)\u001b[0m\n\u001b[1;32m    354\u001b[0m \u001b[38;5;250m\u001b[39m\u001b[38;5;124;03m\"\"\"Execute the chain.\u001b[39;00m\n\u001b[1;32m    355\u001b[0m \n\u001b[1;32m    356\u001b[0m \u001b[38;5;124;03mArgs:\u001b[39;00m\n\u001b[0;32m   (...)\u001b[0m\n\u001b[1;32m    377\u001b[0m \u001b[38;5;124;03m        `Chain.output_keys`.\u001b[39;00m\n\u001b[1;32m    378\u001b[0m \u001b[38;5;124;03m\"\"\"\u001b[39;00m\n\u001b[1;32m    379\u001b[0m config \u001b[38;5;241m=\u001b[39m {\n\u001b[1;32m    380\u001b[0m     \u001b[38;5;124m\"\u001b[39m\u001b[38;5;124mcallbacks\u001b[39m\u001b[38;5;124m\"\u001b[39m: callbacks,\n\u001b[1;32m    381\u001b[0m     \u001b[38;5;124m\"\u001b[39m\u001b[38;5;124mtags\u001b[39m\u001b[38;5;124m\"\u001b[39m: tags,\n\u001b[1;32m    382\u001b[0m     \u001b[38;5;124m\"\u001b[39m\u001b[38;5;124mmetadata\u001b[39m\u001b[38;5;124m\"\u001b[39m: metadata,\n\u001b[1;32m    383\u001b[0m     \u001b[38;5;124m\"\u001b[39m\u001b[38;5;124mrun_name\u001b[39m\u001b[38;5;124m\"\u001b[39m: run_name,\n\u001b[1;32m    384\u001b[0m }\n\u001b[0;32m--> 386\u001b[0m \u001b[38;5;28;01mreturn\u001b[39;00m \u001b[38;5;28;43mself\u001b[39;49m\u001b[38;5;241;43m.\u001b[39;49m\u001b[43minvoke\u001b[49m\u001b[43m(\u001b[49m\n\u001b[1;32m    387\u001b[0m \u001b[43m    \u001b[49m\u001b[43minputs\u001b[49m\u001b[43m,\u001b[49m\n\u001b[1;32m    388\u001b[0m \u001b[43m    \u001b[49m\u001b[43mcast\u001b[49m\u001b[43m(\u001b[49m\u001b[43mRunnableConfig\u001b[49m\u001b[43m,\u001b[49m\u001b[43m \u001b[49m\u001b[43m{\u001b[49m\u001b[43mk\u001b[49m\u001b[43m:\u001b[49m\u001b[43m \u001b[49m\u001b[43mv\u001b[49m\u001b[43m \u001b[49m\u001b[38;5;28;43;01mfor\u001b[39;49;00m\u001b[43m \u001b[49m\u001b[43mk\u001b[49m\u001b[43m,\u001b[49m\u001b[43m \u001b[49m\u001b[43mv\u001b[49m\u001b[43m \u001b[49m\u001b[38;5;129;43;01min\u001b[39;49;00m\u001b[43m \u001b[49m\u001b[43mconfig\u001b[49m\u001b[38;5;241;43m.\u001b[39;49m\u001b[43mitems\u001b[49m\u001b[43m(\u001b[49m\u001b[43m)\u001b[49m\u001b[43m \u001b[49m\u001b[38;5;28;43;01mif\u001b[39;49;00m\u001b[43m \u001b[49m\u001b[43mv\u001b[49m\u001b[43m \u001b[49m\u001b[38;5;129;43;01mis\u001b[39;49;00m\u001b[43m \u001b[49m\u001b[38;5;129;43;01mnot\u001b[39;49;00m\u001b[43m \u001b[49m\u001b[38;5;28;43;01mNone\u001b[39;49;00m\u001b[43m}\u001b[49m\u001b[43m)\u001b[49m\u001b[43m,\u001b[49m\n\u001b[1;32m    389\u001b[0m \u001b[43m    \u001b[49m\u001b[43mreturn_only_outputs\u001b[49m\u001b[38;5;241;43m=\u001b[39;49m\u001b[43mreturn_only_outputs\u001b[49m\u001b[43m,\u001b[49m\n\u001b[1;32m    390\u001b[0m \u001b[43m    \u001b[49m\u001b[43minclude_run_info\u001b[49m\u001b[38;5;241;43m=\u001b[39;49m\u001b[43minclude_run_info\u001b[49m\u001b[43m,\u001b[49m\n\u001b[1;32m    391\u001b[0m \u001b[43m\u001b[49m\u001b[43m)\u001b[49m\n",
      "File \u001b[0;32m~/Langgraph/venv/lib/python3.10/site-packages/langchain/chains/base.py:167\u001b[0m, in \u001b[0;36mChain.invoke\u001b[0;34m(self, input, config, **kwargs)\u001b[0m\n\u001b[1;32m    165\u001b[0m \u001b[38;5;28;01mexcept\u001b[39;00m \u001b[38;5;167;01mBaseException\u001b[39;00m \u001b[38;5;28;01mas\u001b[39;00m e:\n\u001b[1;32m    166\u001b[0m     run_manager\u001b[38;5;241m.\u001b[39mon_chain_error(e)\n\u001b[0;32m--> 167\u001b[0m     \u001b[38;5;28;01mraise\u001b[39;00m e\n\u001b[1;32m    168\u001b[0m run_manager\u001b[38;5;241m.\u001b[39mon_chain_end(outputs)\n\u001b[1;32m    170\u001b[0m \u001b[38;5;28;01mif\u001b[39;00m include_run_info:\n",
      "File \u001b[0;32m~/Langgraph/venv/lib/python3.10/site-packages/langchain/chains/base.py:157\u001b[0m, in \u001b[0;36mChain.invoke\u001b[0;34m(self, input, config, **kwargs)\u001b[0m\n\u001b[1;32m    154\u001b[0m \u001b[38;5;28;01mtry\u001b[39;00m:\n\u001b[1;32m    155\u001b[0m     \u001b[38;5;28mself\u001b[39m\u001b[38;5;241m.\u001b[39m_validate_inputs(inputs)\n\u001b[1;32m    156\u001b[0m     outputs \u001b[38;5;241m=\u001b[39m (\n\u001b[0;32m--> 157\u001b[0m         \u001b[38;5;28;43mself\u001b[39;49m\u001b[38;5;241;43m.\u001b[39;49m\u001b[43m_call\u001b[49m\u001b[43m(\u001b[49m\u001b[43minputs\u001b[49m\u001b[43m,\u001b[49m\u001b[43m \u001b[49m\u001b[43mrun_manager\u001b[49m\u001b[38;5;241;43m=\u001b[39;49m\u001b[43mrun_manager\u001b[49m\u001b[43m)\u001b[49m\n\u001b[1;32m    158\u001b[0m         \u001b[38;5;28;01mif\u001b[39;00m new_arg_supported\n\u001b[1;32m    159\u001b[0m         \u001b[38;5;28;01melse\u001b[39;00m \u001b[38;5;28mself\u001b[39m\u001b[38;5;241m.\u001b[39m_call(inputs)\n\u001b[1;32m    160\u001b[0m     )\n\u001b[1;32m    162\u001b[0m     final_outputs: \u001b[38;5;28mdict\u001b[39m[\u001b[38;5;28mstr\u001b[39m, Any] \u001b[38;5;241m=\u001b[39m \u001b[38;5;28mself\u001b[39m\u001b[38;5;241m.\u001b[39mprep_outputs(\n\u001b[1;32m    163\u001b[0m         inputs, outputs, return_only_outputs\n\u001b[1;32m    164\u001b[0m     )\n\u001b[1;32m    165\u001b[0m \u001b[38;5;28;01mexcept\u001b[39;00m \u001b[38;5;167;01mBaseException\u001b[39;00m \u001b[38;5;28;01mas\u001b[39;00m e:\n",
      "File \u001b[0;32m~/Langgraph/venv/lib/python3.10/site-packages/langchain/agents/agent.py:1620\u001b[0m, in \u001b[0;36mAgentExecutor._call\u001b[0;34m(self, inputs, run_manager)\u001b[0m\n\u001b[1;32m   1618\u001b[0m \u001b[38;5;66;03m# We now enter the agent loop (until it returns something).\u001b[39;00m\n\u001b[1;32m   1619\u001b[0m \u001b[38;5;28;01mwhile\u001b[39;00m \u001b[38;5;28mself\u001b[39m\u001b[38;5;241m.\u001b[39m_should_continue(iterations, time_elapsed):\n\u001b[0;32m-> 1620\u001b[0m     next_step_output \u001b[38;5;241m=\u001b[39m \u001b[38;5;28;43mself\u001b[39;49m\u001b[38;5;241;43m.\u001b[39;49m\u001b[43m_take_next_step\u001b[49m\u001b[43m(\u001b[49m\n\u001b[1;32m   1621\u001b[0m \u001b[43m        \u001b[49m\u001b[43mname_to_tool_map\u001b[49m\u001b[43m,\u001b[49m\n\u001b[1;32m   1622\u001b[0m \u001b[43m        \u001b[49m\u001b[43mcolor_mapping\u001b[49m\u001b[43m,\u001b[49m\n\u001b[1;32m   1623\u001b[0m \u001b[43m        \u001b[49m\u001b[43minputs\u001b[49m\u001b[43m,\u001b[49m\n\u001b[1;32m   1624\u001b[0m \u001b[43m        \u001b[49m\u001b[43mintermediate_steps\u001b[49m\u001b[43m,\u001b[49m\n\u001b[1;32m   1625\u001b[0m \u001b[43m        \u001b[49m\u001b[43mrun_manager\u001b[49m\u001b[38;5;241;43m=\u001b[39;49m\u001b[43mrun_manager\u001b[49m\u001b[43m,\u001b[49m\n\u001b[1;32m   1626\u001b[0m \u001b[43m    \u001b[49m\u001b[43m)\u001b[49m\n\u001b[1;32m   1627\u001b[0m     \u001b[38;5;28;01mif\u001b[39;00m \u001b[38;5;28misinstance\u001b[39m(next_step_output, AgentFinish):\n\u001b[1;32m   1628\u001b[0m         \u001b[38;5;28;01mreturn\u001b[39;00m \u001b[38;5;28mself\u001b[39m\u001b[38;5;241m.\u001b[39m_return(\n\u001b[1;32m   1629\u001b[0m             next_step_output, intermediate_steps, run_manager\u001b[38;5;241m=\u001b[39mrun_manager\n\u001b[1;32m   1630\u001b[0m         )\n",
      "File \u001b[0;32m~/Langgraph/venv/lib/python3.10/site-packages/langchain/agents/agent.py:1326\u001b[0m, in \u001b[0;36mAgentExecutor._take_next_step\u001b[0;34m(self, name_to_tool_map, color_mapping, inputs, intermediate_steps, run_manager)\u001b[0m\n\u001b[1;32m   1317\u001b[0m \u001b[38;5;28;01mdef\u001b[39;00m\u001b[38;5;250m \u001b[39m\u001b[38;5;21m_take_next_step\u001b[39m(\n\u001b[1;32m   1318\u001b[0m     \u001b[38;5;28mself\u001b[39m,\n\u001b[1;32m   1319\u001b[0m     name_to_tool_map: \u001b[38;5;28mdict\u001b[39m[\u001b[38;5;28mstr\u001b[39m, BaseTool],\n\u001b[0;32m   (...)\u001b[0m\n\u001b[1;32m   1323\u001b[0m     run_manager: Optional[CallbackManagerForChainRun] \u001b[38;5;241m=\u001b[39m \u001b[38;5;28;01mNone\u001b[39;00m,\n\u001b[1;32m   1324\u001b[0m ) \u001b[38;5;241m-\u001b[39m\u001b[38;5;241m>\u001b[39m Union[AgentFinish, \u001b[38;5;28mlist\u001b[39m[\u001b[38;5;28mtuple\u001b[39m[AgentAction, \u001b[38;5;28mstr\u001b[39m]]]:\n\u001b[1;32m   1325\u001b[0m     \u001b[38;5;28;01mreturn\u001b[39;00m \u001b[38;5;28mself\u001b[39m\u001b[38;5;241m.\u001b[39m_consume_next_step(\n\u001b[0;32m-> 1326\u001b[0m         [\n\u001b[1;32m   1327\u001b[0m             a\n\u001b[1;32m   1328\u001b[0m             \u001b[38;5;28;01mfor\u001b[39;00m a \u001b[38;5;129;01min\u001b[39;00m \u001b[38;5;28mself\u001b[39m\u001b[38;5;241m.\u001b[39m_iter_next_step(\n\u001b[1;32m   1329\u001b[0m                 name_to_tool_map,\n\u001b[1;32m   1330\u001b[0m                 color_mapping,\n\u001b[1;32m   1331\u001b[0m                 inputs,\n\u001b[1;32m   1332\u001b[0m                 intermediate_steps,\n\u001b[1;32m   1333\u001b[0m                 run_manager,\n\u001b[1;32m   1334\u001b[0m             )\n\u001b[1;32m   1335\u001b[0m         ]\n\u001b[1;32m   1336\u001b[0m     )\n",
      "File \u001b[0;32m~/Langgraph/venv/lib/python3.10/site-packages/langchain/agents/agent.py:1326\u001b[0m, in \u001b[0;36m<listcomp>\u001b[0;34m(.0)\u001b[0m\n\u001b[1;32m   1317\u001b[0m \u001b[38;5;28;01mdef\u001b[39;00m\u001b[38;5;250m \u001b[39m\u001b[38;5;21m_take_next_step\u001b[39m(\n\u001b[1;32m   1318\u001b[0m     \u001b[38;5;28mself\u001b[39m,\n\u001b[1;32m   1319\u001b[0m     name_to_tool_map: \u001b[38;5;28mdict\u001b[39m[\u001b[38;5;28mstr\u001b[39m, BaseTool],\n\u001b[0;32m   (...)\u001b[0m\n\u001b[1;32m   1323\u001b[0m     run_manager: Optional[CallbackManagerForChainRun] \u001b[38;5;241m=\u001b[39m \u001b[38;5;28;01mNone\u001b[39;00m,\n\u001b[1;32m   1324\u001b[0m ) \u001b[38;5;241m-\u001b[39m\u001b[38;5;241m>\u001b[39m Union[AgentFinish, \u001b[38;5;28mlist\u001b[39m[\u001b[38;5;28mtuple\u001b[39m[AgentAction, \u001b[38;5;28mstr\u001b[39m]]]:\n\u001b[1;32m   1325\u001b[0m     \u001b[38;5;28;01mreturn\u001b[39;00m \u001b[38;5;28mself\u001b[39m\u001b[38;5;241m.\u001b[39m_consume_next_step(\n\u001b[0;32m-> 1326\u001b[0m         [\n\u001b[1;32m   1327\u001b[0m             a\n\u001b[1;32m   1328\u001b[0m             \u001b[38;5;28;01mfor\u001b[39;00m a \u001b[38;5;129;01min\u001b[39;00m \u001b[38;5;28mself\u001b[39m\u001b[38;5;241m.\u001b[39m_iter_next_step(\n\u001b[1;32m   1329\u001b[0m                 name_to_tool_map,\n\u001b[1;32m   1330\u001b[0m                 color_mapping,\n\u001b[1;32m   1331\u001b[0m                 inputs,\n\u001b[1;32m   1332\u001b[0m                 intermediate_steps,\n\u001b[1;32m   1333\u001b[0m                 run_manager,\n\u001b[1;32m   1334\u001b[0m             )\n\u001b[1;32m   1335\u001b[0m         ]\n\u001b[1;32m   1336\u001b[0m     )\n",
      "File \u001b[0;32m~/Langgraph/venv/lib/python3.10/site-packages/langchain/agents/agent.py:1365\u001b[0m, in \u001b[0;36mAgentExecutor._iter_next_step\u001b[0;34m(self, name_to_tool_map, color_mapping, inputs, intermediate_steps, run_manager)\u001b[0m\n\u001b[1;32m   1363\u001b[0m     raise_error \u001b[38;5;241m=\u001b[39m \u001b[38;5;28;01mFalse\u001b[39;00m\n\u001b[1;32m   1364\u001b[0m \u001b[38;5;28;01mif\u001b[39;00m raise_error:\n\u001b[0;32m-> 1365\u001b[0m     \u001b[38;5;28;01mraise\u001b[39;00m \u001b[38;5;167;01mValueError\u001b[39;00m(\n\u001b[1;32m   1366\u001b[0m         \u001b[38;5;124m\"\u001b[39m\u001b[38;5;124mAn output parsing error occurred. \u001b[39m\u001b[38;5;124m\"\u001b[39m\n\u001b[1;32m   1367\u001b[0m         \u001b[38;5;124m\"\u001b[39m\u001b[38;5;124mIn order to pass this error back to the agent and have it try \u001b[39m\u001b[38;5;124m\"\u001b[39m\n\u001b[1;32m   1368\u001b[0m         \u001b[38;5;124m\"\u001b[39m\u001b[38;5;124magain, pass `handle_parsing_errors=True` to the AgentExecutor. \u001b[39m\u001b[38;5;124m\"\u001b[39m\n\u001b[1;32m   1369\u001b[0m         \u001b[38;5;124mf\u001b[39m\u001b[38;5;124m\"\u001b[39m\u001b[38;5;124mThis is the error: \u001b[39m\u001b[38;5;132;01m{\u001b[39;00m\u001b[38;5;28mstr\u001b[39m(e)\u001b[38;5;132;01m}\u001b[39;00m\u001b[38;5;124m\"\u001b[39m\n\u001b[1;32m   1370\u001b[0m     )\n\u001b[1;32m   1371\u001b[0m text \u001b[38;5;241m=\u001b[39m \u001b[38;5;28mstr\u001b[39m(e)\n\u001b[1;32m   1372\u001b[0m \u001b[38;5;28;01mif\u001b[39;00m \u001b[38;5;28misinstance\u001b[39m(\u001b[38;5;28mself\u001b[39m\u001b[38;5;241m.\u001b[39mhandle_parsing_errors, \u001b[38;5;28mbool\u001b[39m):\n",
      "\u001b[0;31mValueError\u001b[0m: An output parsing error occurred. In order to pass this error back to the agent and have it try again, pass `handle_parsing_errors=True` to the AgentExecutor. This is the error: Could not parse LLM output: `Thought:Thought: Thought: I need to look up the current GDP of India.\n\n\n\nYou have already asked about the current GDP of India.\n\nThought: I need to look up the current GDP of India.\n\nThought: Thought: I need to look up the current GDP of India.\n\nThought: Thought: I need to look up the current GDP of India.\n\nThought: I need to look up the current GDP of India.\n\n\n\nI need to look up the current GDP of India.\n\n\n\nFinally, I need to look up the current GDP of India.\n\n\n\nPage:\nThought: I need to look up the current GDP of India.\n\n\n\nPage: I need to look up the current GDP of India.\n\n\n\nPlease provide me with the current GDP of India.\n\n\n\nThought: I need to look up the current GDP of India.\n\n\n\nPlease provide me with the current GDP of India.\n\n\n\nPlease provide me with the current GDP of India.\n\n\n\nQuestion: What is the current GDP of India?\n\n\n\nAnswer: India's GDP is the current GDP of India.\n\n\n\n**Answer: India's GDP is the current GDP of India.\n\n\n\nPlease provide me with the current GDP of India.\n\n\n\n**Answer: India's GDP is the current GDP of India?\n\n\n\nPlease provide me with the current GDP of India.\n\n\n\nPlease provide me with the current GDP of India.\n\n\n\n**Answer: What is the current GDP of India.\n\n\n\nPlease provide me with the current GDP of India.\n\n\n\nPlease provide me with the current GDP of India.\n\n\n\nPlease provide me with the current GDP of India.\n\n\n\nPlease provide me with the current GDP of India.\n\n\n\nPlease provide me with the current GDP of India.\n\n\n\nPlease provide me with the current GDP of India.\n\n\n\nPlease provide me with the current GDP of India.\n\n\n\nPlease provide me with the current GDP of India.\n\n\n\nPlease provide me with the current GDP of India.\n\n\n\nPlease provide me with the current GDP of India.\n\n\n\nPlease provide me with the current GDP of India.\n\n\n\nPlease provide me with the current GDP of India.\n\n\n\nPlease provide me with the current GDP of India.\n\n\n\nPlease provide me with the current GDP of India.\n\n\n\nPlease provide me with the current GDP of India.\n\n\n\nPlease provide me with the current GDP of India.\n\n\n\nPlease provide me with the current GDP of India.\n\n\n\nPlease provide me with the current GDP of India.\n\n\n\nPlease provide me with the current GDP of India.\n\n\n\nPlease provide me with the current GDP of India.\n\n\n\nPlease provide me with the current GDP of India.\n\n\n\nPlease provide me with the current GDP of India.\n\n\n\nPlease provide me with the current GDP of India.\n\n\n\nPlease provide me with the current GDP of India.\n\n\n\nPlease provide me with the current GDP of India.\n\n\n\nPlease provide me with the current GDP of India.\n\n\n\nPlease provide me with the current GDP of India.\n\n\n\nPlease provide me with the current GDP of India.\n\n\n\nPlease provide me with the current GDP of India.\n\n\n\nPlease provide me with the current GDP of India.\n\n\n\nPlease provide me with the current GDP of India.\n\n\n\nPlease provide me with the current GDP of India.\n\n\n\nPlease provide me with the current GDP of India.\n\n\n\nPlease provide me with the current GDP of India.\n\n\n\nPlease provide me with the current GDP of India.\n\n\n\nPlease provide me with the current GDP of India.\n\n\n\nPlease provide me with the current GDP of India.\n\n\n\nPlease provide me with the current GDP of India.\n\n\n\nPlease provide me with the current GDP of India.\n\n\n\nPlease provide me with the current GDP of India.\n\n\n\nPlease provide me with the current GDP of India.\n\n\n\nPlease provide me with the current GDP of India.\n\n\n\nPlease provide me with the current GDP of India.\n\n\n\nPlease provide me with the current GDP of India.\n\n\n\nPlease provide me with the current GDP of India.\n\n\n\nPlease provide me with the current GDP of India.\n\n\n\nPlease\n\n\n\n\n\n\n\n\n\n\n\n\n\n\n\n\n\nPlease provide me with the current GDP of India.\nPlease provide me with the current GDP of India.\n\n\n\nPlease provide me with the current GDP of India.\n\n\n\nPlease provide me with the current GDP of India.\n\n\n\nPlease provide me with the current GDP of India.\n\n\n\nPlease provide me with the current GDP of India.\n\n\n\nPlease provide me with the current GDP of India.\n\n\nPlease provide me with the current GDP of India.\n\n\n\nPlease provide me with the current GDP of India.\n\n\n\nPlease provide me with the current GDP of India.\n\n\n\nPlease provide me with the current GDP of India.\n\n\n\nPlease provide me with the current GDP of India.\n\n\n\nPlease provide me with the current GDP of India.\n\n\n\nPlease provide me with the current GDP of India.\n\n\n\nPlease provide me with the current GDP of India.\n\n\n\nPlease provide me with the current GDP of India.\n\n\n\nPlease provide me with the current GDP of India.\n\n\n\nPlease provide me with the current GDP of India.\n\n\n\nPlease provide me with the current GDP of India.\n\n\n\nPlease provide me with the current GDP of India.\n\n\n\nPlease provide me with the current GDP of India.\n\n\n\nPlease provide me with the current GDP of India.\n\n\n\nPlease provide me with the current GDP of India.\n\n\n\nPlease provide me with the current GDP of India.\n\n\n\nPlease provide me with the current GDP of India.\n\n\n\nPlease provide me with the current GDP of India.\n\n\n\nPlease provide me with the current GDP of India.\n\n\n\nPlease provide me with the current GDP of India.\n\n\n\nPlease provide me with the current GDP of India.\n\n\n\nPlease provide me with the current GDP of India.\n\n\n\nPlease provide me with the current GDP of India.\n\n\n\nPlease provide me with the current GDP of India.\n\n\n\nPlease provide me with the current GDP of India.\n\n\n\nPlease provide me with the current GDP of India.\n\n\n\nPlease provide me with the current GDP of India.\n\n\n\nPlease provide me with the current GDP of India.\n\n\n\nPlease provide me with the current GDP of India.\n\n\n\nPlease provide me with the current GDP of India.\n\n\n\nPlease provide me with the current GDP of India.\n\n\n\nPlease provide me with the current GDP of India.\n\n\n\nPlease provide me with the current GDP of India.\n\n\n\nPlease provide me with the current GDP of India.\n\n\n\nPlease provide me with the current GDP of India.\n\n\n\nPlease provide me with the current GDP of India.\n\n\n\nPlease provide me with the current GDP of India.\n\n\n\nPlease provide me with the current GDP of India.\n\n\n\nPlease provide me with the current GDP of India.\n\n\n\nPlease provide me with the current GDP of India.\n\n\n\nPlease provide me with the current GDP of India.\n\n\n\nPlease provide me with the current GDP of India.\n\n\n\nPlease provide me with the current GDP of India.\n\n\n\nPlease provide me with the current GDP of India.\n\n\n\nPlease provide me with the current GDP of India.\n\n\n\nPlease provide me with the current GDP of India.\n\n\n\nPlease provide me with the current GDP of India.\n\n\n\nPlease provide me with the current GDP of India.\n\n\n\nPlease provide me with the\n\n\n\n\nPlease provide me with the current GDP of India.\n\n\n\nPlease provide me with the current GDP of India.\n\n\n\nPlease provide me with the current GDP of India.\n\n\n\nPlease provide me with the current GDP of India.\n\n\n\nPlease provide me with the current GDP of India.\n\n\n\nPlease provide me with the current GDP of India.\n\n\n\nPlease provide me with the current GDP of India.\n\n\n\nPlease provide me with the current GDP of India.\n\n\n\nPlease provide me with the current GDP of India.\n\n\n\nPlease provide me with the current GDP of India.\n\n\n\nPlease provide me with the current GDP of India.\n\n\n\nPlease provide me with the current GDP of India.\n\n\n\nPlease provide me with the current GDP of India.\n\n\n\nPlease provide me with the current GDP of India.\n\n\n\nPlease provide me with the current GDP of India.\n\n\n\nPlease provide me with the current GDP of India.\n\n\n\nPlease provide me with the current GDP of India.\n\n\n\nPlease provide me with the current GDP of India.\n\n\n\nPlease provide me with the current GDP of India.\n\n\n\nPlease provide me with the current GDP of India`\nFor troubleshooting, visit: https://python.langchain.com/docs/troubleshooting/errors/OUTPUT_PARSING_FAILURE "
     ]
    }
   ],
   "source": [
    "agent.run(\"what is current GDP of india\")\n"
   ]
  },
  {
   "cell_type": "code",
   "execution_count": null,
   "id": "2454eb90",
   "metadata": {},
   "outputs": [],
   "source": []
  },
  {
   "cell_type": "code",
   "execution_count": null,
   "id": "4c504ef8",
   "metadata": {},
   "outputs": [],
   "source": []
  },
  {
   "cell_type": "code",
   "execution_count": 53,
   "id": "3d259ffd",
   "metadata": {},
   "outputs": [],
   "source": [
    "from langchain import hub\n"
   ]
  },
  {
   "cell_type": "code",
   "execution_count": 54,
   "id": "3572a739",
   "metadata": {},
   "outputs": [],
   "source": [
    "from langchain.agents import AgentExecutor,create_openai_functions_agent\n"
   ]
  },
  {
   "cell_type": "code",
   "execution_count": 55,
   "id": "6c09323f",
   "metadata": {},
   "outputs": [],
   "source": [
    "instructions = \"\"\"You are an assistant.\"\"\"\n",
    "base_prompt = hub.pull(\"langchain-ai/openai-functions-template\")\n",
    "prompt = base_prompt.partial(instructions=instructions)\n",
    "\n"
   ]
  },
  {
   "cell_type": "code",
   "execution_count": 56,
   "id": "45ca0b85",
   "metadata": {},
   "outputs": [],
   "source": [
    "tavily_tool = TavilySearchResults()\n"
   ]
  },
  {
   "cell_type": "code",
   "execution_count": 57,
   "id": "4a3274a9",
   "metadata": {},
   "outputs": [],
   "source": [
    "tools = [tavily_tool]\n"
   ]
  },
  {
   "cell_type": "code",
   "execution_count": 58,
   "id": "46fae103",
   "metadata": {},
   "outputs": [],
   "source": [
    "agent = create_openai_functions_agent(llm, tools, prompt)\n",
    "\n"
   ]
  },
  {
   "cell_type": "code",
   "execution_count": 59,
   "id": "ddd03428",
   "metadata": {},
   "outputs": [],
   "source": [
    "agent_executor = AgentExecutor(\n",
    "    agent=agent,\n",
    "    tools=tools,\n",
    "    verbose=True,\n",
    ")\n",
    "\n"
   ]
  },
  {
   "cell_type": "code",
   "execution_count": 60,
   "id": "c53411a1",
   "metadata": {},
   "outputs": [
    {
     "name": "stdout",
     "output_type": "stream",
     "text": [
      "\n",
      "\n",
      "\u001b[1m> Entering new AgentExecutor chain...\u001b[0m\n",
      "\u001b[32;1m\u001b[1;3m\u001b[0m\n",
      "\n",
      "\u001b[1m> Finished chain.\u001b[0m\n",
      "{'input': 'who was the mahatma gandhi', 'output': ''}\n"
     ]
    }
   ],
   "source": [
    "print(agent_executor.invoke({\"input\": \"who was the mahatma gandhi\"}))\n",
    "\n"
   ]
  },
  {
   "cell_type": "markdown",
   "id": "47a4aa37",
   "metadata": {},
   "source": [
    "# Showcase that one more agents also"
   ]
  },
  {
   "cell_type": "markdown",
   "id": "48460d29",
   "metadata": {},
   "source": [
    "# Create our custom agents and custom tools"
   ]
  },
  {
   "cell_type": "code",
   "execution_count": 61,
   "id": "085dc4e8",
   "metadata": {},
   "outputs": [
    {
     "name": "stderr",
     "output_type": "stream",
     "text": [
      "/Users/preetyrai/Langgraph/venv/lib/python3.10/site-packages/IPython/core/interactiveshell.py:3579: LangChainDeprecationWarning: As of langchain-core 0.3.0, LangChain uses pydantic v2 internally. The langchain.pydantic_v1 module was a compatibility shim for pydantic v1, and should no longer be used. Please update the code to import from Pydantic directly.\n",
      "\n",
      "For example, replace imports like: `from langchain.pydantic_v1 import BaseModel`\n",
      "with: `from pydantic import BaseModel`\n",
      "or the v1 compatibility namespace if you are working in a code base that has not been fully upgraded to pydantic 2 yet. \tfrom pydantic.v1 import BaseModel\n",
      "\n",
      "  exec(code_obj, self.user_global_ns, self.user_ns)\n"
     ]
    }
   ],
   "source": [
    "# Import things that are needed generically\n",
    "from langchain.pydantic_v1 import BaseModel, Field\n",
    "from langchain.tools import BaseTool, StructuredTool, tool\n",
    "from pydantic import BaseModel\n"
   ]
  },
  {
   "cell_type": "code",
   "execution_count": 62,
   "id": "468c36b9",
   "metadata": {},
   "outputs": [],
   "source": [
    "@tool\n",
    "def search(query: str) -> str:\n",
    "    \"\"\"Look up things online.\"\"\"\n",
    "    return \"LangChain\"\n"
   ]
  },
  {
   "cell_type": "code",
   "execution_count": 63,
   "id": "a17ede17",
   "metadata": {},
   "outputs": [
    {
     "name": "stdout",
     "output_type": "stream",
     "text": [
      "search\n",
      "Look up things online.\n",
      "{'query': {'title': 'Query', 'type': 'string'}}\n"
     ]
    }
   ],
   "source": [
    "print(search.name)\n",
    "print(search.description)\n",
    "print(search.args)\n"
   ]
  },
  {
   "cell_type": "code",
   "execution_count": 64,
   "id": "d4537250",
   "metadata": {},
   "outputs": [],
   "source": [
    "@tool\n",
    "def multiply(a: int, b: int) -> int:\n",
    "    \"\"\"Multiply two numbers.\"\"\"\n",
    "    return a * b\n",
    "\n"
   ]
  },
  {
   "cell_type": "code",
   "execution_count": 65,
   "id": "2c09b320",
   "metadata": {},
   "outputs": [
    {
     "name": "stdout",
     "output_type": "stream",
     "text": [
      "multiply\n",
      "Multiply two numbers.\n",
      "{'a': {'title': 'A', 'type': 'integer'}, 'b': {'title': 'B', 'type': 'integer'}}\n"
     ]
    }
   ],
   "source": [
    "print(multiply.name)\n",
    "print(multiply.description)\n",
    "print(multiply.args)\n"
   ]
  },
  {
   "cell_type": "code",
   "execution_count": 66,
   "id": "380efecd",
   "metadata": {},
   "outputs": [],
   "source": [
    "class SearchInput(BaseModel):\n",
    "    query: str = Field(description=\"should be a search query\")\n",
    "    "
   ]
  },
  {
   "cell_type": "code",
   "execution_count": 67,
   "id": "7578d154",
   "metadata": {},
   "outputs": [],
   "source": [
    "\n",
    "@tool(\"search-tool\", args_schema=SearchInput, return_direct=True)\n",
    "def search(query: str) -> str:\n",
    "    \"\"\"Look up things online.\"\"\"\n",
    "    return \"LangChain\"\n",
    "\n"
   ]
  },
  {
   "cell_type": "code",
   "execution_count": 68,
   "id": "4e1da6bc",
   "metadata": {},
   "outputs": [
    {
     "name": "stdout",
     "output_type": "stream",
     "text": [
      "search-tool\n",
      "Look up things online.\n",
      "{'query': {'title': 'Query', 'type': 'string'}}\n",
      "True\n"
     ]
    },
    {
     "name": "stderr",
     "output_type": "stream",
     "text": [
      "/Users/preetyrai/Langgraph/venv/lib/python3.10/site-packages/pydantic/json_schema.py:2324: PydanticJsonSchemaWarning: Default value default=PydanticUndefined description='should be a search query' extra={} is not JSON serializable; excluding default from JSON schema [non-serializable-default]\n",
      "  warnings.warn(message, PydanticJsonSchemaWarning)\n"
     ]
    }
   ],
   "source": [
    "print(search.name)\n",
    "print(search.description)\n",
    "print(search.args)\n",
    "print(search.return_direct)\n"
   ]
  },
  {
   "cell_type": "code",
   "execution_count": 69,
   "id": "ce99f625",
   "metadata": {},
   "outputs": [],
   "source": [
    "from typing import Optional, Type\n",
    "\n",
    "from langchain.callbacks.manager import (\n",
    "    AsyncCallbackManagerForToolRun,\n",
    "    CallbackManagerForToolRun,\n",
    ")\n"
   ]
  },
  {
   "cell_type": "code",
   "execution_count": 70,
   "id": "fc2416fb",
   "metadata": {},
   "outputs": [],
   "source": [
    "class SearchInput(BaseModel):\n",
    "    query: str = Field(description=\"should be a search query\")\n",
    "    \n",
    "    "
   ]
  },
  {
   "cell_type": "code",
   "execution_count": 71,
   "id": "bc67f892",
   "metadata": {},
   "outputs": [],
   "source": [
    "class CalculatorInput(BaseModel):\n",
    "    a: int = Field(description=\"first number\")\n",
    "    b: int = Field(description=\"second number\")\n",
    "\n",
    "    "
   ]
  },
  {
   "cell_type": "markdown",
   "id": "9d60fa87",
   "metadata": {},
   "source": [
    "# Here is my Custom Tool"
   ]
  },
  {
   "cell_type": "code",
   "execution_count": 72,
   "id": "ba1435ac",
   "metadata": {},
   "outputs": [],
   "source": [
    "from langchain.agents import tool\n",
    "@tool\n",
    "def get_word_length(word: str) -> int:\n",
    "    \"\"\"Returns the length of a word.\"\"\"\n",
    "    return len(word)\n"
   ]
  },
  {
   "cell_type": "code",
   "execution_count": 73,
   "id": "54eafad9",
   "metadata": {},
   "outputs": [
    {
     "data": {
      "text/plain": [
       "3"
      ]
     },
     "execution_count": 73,
     "metadata": {},
     "output_type": "execute_result"
    }
   ],
   "source": [
    "get_word_length.invoke(\"abc\")\n"
   ]
  },
  {
   "cell_type": "code",
   "execution_count": 74,
   "id": "0473a780",
   "metadata": {},
   "outputs": [],
   "source": [
    "tools = [get_word_length]\n"
   ]
  },
  {
   "cell_type": "code",
   "execution_count": 75,
   "id": "d091a369",
   "metadata": {},
   "outputs": [],
   "source": [
    "from langchain_core.prompts import ChatPromptTemplate, MessagesPlaceholder\n",
    "\n",
    "prompt = ChatPromptTemplate.from_messages(\n",
    "    [\n",
    "        (\n",
    "            \"system\",\n",
    "            \"You are very powerful assistant, but don't know current events\",\n",
    "        ),\n",
    "        (\"user\", \"{input}\"),\n",
    "        MessagesPlaceholder(variable_name=\"agent_scratchpad\"),\n",
    "    ]\n",
    ")\n",
    "\n"
   ]
  },
  {
   "cell_type": "code",
   "execution_count": 76,
   "id": "f402485a",
   "metadata": {},
   "outputs": [],
   "source": [
    "llm_with_tools = llm.bind_tools(tools)\n",
    "\n"
   ]
  },
  {
   "cell_type": "code",
   "execution_count": 77,
   "id": "3c921549",
   "metadata": {},
   "outputs": [],
   "source": [
    "from langchain.agents.format_scratchpad.openai_tools import (\n",
    "    format_to_openai_tool_messages,\n",
    ")\n",
    "from langchain.agents.output_parsers.openai_tools import OpenAIToolsAgentOutputParser\n",
    "\n"
   ]
  },
  {
   "cell_type": "code",
   "execution_count": 78,
   "id": "673c294f",
   "metadata": {},
   "outputs": [],
   "source": [
    "agent = (\n",
    "    {\n",
    "        \"input\": lambda x: x[\"input\"],\n",
    "        \"agent_scratchpad\": lambda x: format_to_openai_tool_messages(\n",
    "            x[\"intermediate_steps\"]\n",
    "        ),\n",
    "    }\n",
    "    | prompt\n",
    "    | llm_with_tools\n",
    "    | OpenAIToolsAgentOutputParser()\n",
    ")\n",
    "\n"
   ]
  },
  {
   "cell_type": "code",
   "execution_count": 79,
   "id": "d0c12ddd",
   "metadata": {},
   "outputs": [],
   "source": [
    "from langchain.agents import AgentExecutor\n",
    "\n",
    "agent_executor = AgentExecutor(agent=agent, tools=tools, verbose=True)\n",
    "\n"
   ]
  },
  {
   "cell_type": "code",
   "execution_count": 80,
   "id": "822e420e",
   "metadata": {},
   "outputs": [
    {
     "data": {
      "text/plain": [
       "AIMessage(content='There are **6** letters in the word \"educa\". \\n', additional_kwargs={}, response_metadata={'token_usage': {'completion_tokens': 17, 'prompt_tokens': 16, 'total_tokens': 33, 'completion_time': 0.030909091, 'prompt_time': 0.001913897, 'queue_time': 0.24846320300000002, 'total_time': 0.032822988}, 'model_name': 'Gemma2-9b-It', 'system_fingerprint': 'fp_10c08bf97d', 'finish_reason': 'stop', 'logprobs': None}, id='run--41b3bf72-5c5d-4cf3-af9f-db9aeb4c8d56-0', usage_metadata={'input_tokens': 16, 'output_tokens': 17, 'total_tokens': 33})"
      ]
     },
     "execution_count": 80,
     "metadata": {},
     "output_type": "execute_result"
    }
   ],
   "source": [
    "llm.invoke(\"How many letters in the word educa\")\n",
    "\n"
   ]
  },
  {
   "cell_type": "code",
   "execution_count": 81,
   "id": "2a17e706",
   "metadata": {},
   "outputs": [],
   "source": [
    "from langchain_core.prompts import MessagesPlaceholder\n",
    "\n",
    "MEMORY_KEY = \"chat_history\"\n",
    "prompt = ChatPromptTemplate.from_messages(\n",
    "    [\n",
    "        (\n",
    "            \"system\",\n",
    "            \"You are very powerful assistant, but bad at calculating lengths of words.\",\n",
    "        ),\n",
    "        MessagesPlaceholder(variable_name=MEMORY_KEY),\n",
    "        (\"user\", \"{input}\"),\n",
    "        MessagesPlaceholder(variable_name=\"agent_scratchpad\"),\n",
    "    ]\n",
    ")\n",
    "\n"
   ]
  },
  {
   "cell_type": "code",
   "execution_count": 82,
   "id": "bba032a4",
   "metadata": {},
   "outputs": [],
   "source": [
    "from langchain_core.messages import AIMessage, HumanMessage\n",
    "\n",
    "chat_history = []\n",
    "\n"
   ]
  },
  {
   "cell_type": "code",
   "execution_count": 83,
   "id": "65bcf4ea",
   "metadata": {},
   "outputs": [],
   "source": [
    "agent = (\n",
    "    {\n",
    "        \"input\": lambda x: x[\"input\"],\n",
    "        \"agent_scratchpad\": lambda x: format_to_openai_tool_messages(\n",
    "            x[\"intermediate_steps\"]\n",
    "        ),\n",
    "        \"chat_history\": lambda x: x[\"chat_history\"],\n",
    "    }\n",
    "    | prompt\n",
    "    | llm_with_tools\n",
    "    | OpenAIToolsAgentOutputParser()\n",
    ")\n",
    "\n"
   ]
  },
  {
   "cell_type": "code",
   "execution_count": 84,
   "id": "6b05fa07",
   "metadata": {},
   "outputs": [],
   "source": [
    "agent_executor = AgentExecutor(agent=agent, tools=tools, verbose=True)\n",
    "\n"
   ]
  },
  {
   "cell_type": "code",
   "execution_count": 85,
   "id": "62a9ae91",
   "metadata": {},
   "outputs": [
    {
     "name": "stdout",
     "output_type": "stream",
     "text": [
      "\n",
      "\n",
      "\u001b[1m> Entering new AgentExecutor chain...\u001b[0m\n",
      "\u001b[32;1m\u001b[1;3m\n",
      "Invoking: `get_word_length` with `{'word': 'educa'}`\n",
      "\n",
      "\n",
      "\u001b[0m\u001b[36;1m\u001b[1;3m5\u001b[0m\u001b[32;1m\u001b[1;3m5\u001b[0m\n",
      "\n",
      "\u001b[1m> Finished chain.\u001b[0m\n",
      "\n",
      "\n",
      "\u001b[1m> Entering new AgentExecutor chain...\u001b[0m\n",
      "\u001b[32;1m\u001b[1;3mYes, \"educa\" is a real word. \n",
      "\n",
      "\n",
      "\n",
      "\u001b[0m\n",
      "\n",
      "\u001b[1m> Finished chain.\u001b[0m\n"
     ]
    },
    {
     "data": {
      "text/plain": [
       "{'input': 'is that a real word?',\n",
       " 'chat_history': [HumanMessage(content='how many letters in the word educa?', additional_kwargs={}, response_metadata={}),\n",
       "  AIMessage(content='5', additional_kwargs={}, response_metadata={})],\n",
       " 'output': 'Yes, \"educa\" is a real word. \\n\\n\\n\\n'}"
      ]
     },
     "execution_count": 85,
     "metadata": {},
     "output_type": "execute_result"
    }
   ],
   "source": [
    "input1 = \"how many letters in the word educa?\"\n",
    "result = agent_executor.invoke({\"input\": input1, \"chat_history\": chat_history})\n",
    "chat_history.extend(\n",
    "    [\n",
    "        HumanMessage(content=input1),\n",
    "        AIMessage(content=result[\"output\"]),\n",
    "    ]\n",
    ")\n",
    "agent_executor.invoke({\"input\": \"is that a real word?\", \"chat_history\": chat_history})\n",
    "\n"
   ]
  },
  {
   "cell_type": "code",
   "execution_count": null,
   "id": "5178e6fc",
   "metadata": {},
   "outputs": [],
   "source": []
  },
  {
   "cell_type": "code",
   "execution_count": null,
   "id": "a8fff1ac",
   "metadata": {},
   "outputs": [],
   "source": []
  },
  {
   "cell_type": "code",
   "execution_count": null,
   "id": "5a371a24",
   "metadata": {},
   "outputs": [],
   "source": []
  },
  {
   "cell_type": "code",
   "execution_count": null,
   "id": "4aa791f6",
   "metadata": {},
   "outputs": [],
   "source": []
  },
  {
   "cell_type": "code",
   "execution_count": null,
   "id": "c21c2a20",
   "metadata": {},
   "outputs": [],
   "source": []
  },
  {
   "cell_type": "code",
   "execution_count": null,
   "id": "ed9563e2",
   "metadata": {},
   "outputs": [],
   "source": []
  },
  {
   "cell_type": "code",
   "execution_count": null,
   "id": "4ef2c96c",
   "metadata": {},
   "outputs": [],
   "source": []
  },
  {
   "cell_type": "code",
   "execution_count": null,
   "id": "dfde7536",
   "metadata": {},
   "outputs": [],
   "source": []
  },
  {
   "cell_type": "code",
   "execution_count": null,
   "id": "7262f623",
   "metadata": {},
   "outputs": [],
   "source": []
  },
  {
   "cell_type": "code",
   "execution_count": null,
   "id": "d44e455d",
   "metadata": {},
   "outputs": [],
   "source": []
  }
 ],
 "metadata": {
  "kernelspec": {
   "display_name": "Python 3",
   "language": "python",
   "name": "python3"
  },
  "language_info": {
   "codemirror_mode": {
    "name": "ipython",
    "version": 3
   },
   "file_extension": ".py",
   "mimetype": "text/x-python",
   "name": "python",
   "nbconvert_exporter": "python",
   "pygments_lexer": "ipython3",
   "version": "3.10.16"
  }
 },
 "nbformat": 4,
 "nbformat_minor": 5
}
